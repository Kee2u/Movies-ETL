{
 "cells": [
  {
   "cell_type": "code",
   "execution_count": 191,
   "metadata": {},
   "outputs": [],
   "source": [
    "import json\n",
    "import pandas as pd\n",
    "import numpy as np\n",
    "import re"
   ]
  },
  {
   "cell_type": "code",
   "execution_count": 192,
   "metadata": {},
   "outputs": [],
   "source": [
    "file_dir ='C:/Users/keetu/Google Drive/03 keetu/25 Bootcamp/09_Extract_Transform_and_Load'"
   ]
  },
  {
   "cell_type": "code",
   "execution_count": 193,
   "metadata": {},
   "outputs": [],
   "source": [
    "with open(f'{file_dir}/wikipedia-movies.json', mode = 'r')as file:\n",
    "    wiki_movies_raw = json.load(file)"
   ]
  },
  {
   "cell_type": "code",
   "execution_count": 194,
   "metadata": {},
   "outputs": [
    {
     "output_type": "execute_result",
     "data": {
      "text/plain": [
       "7311"
      ]
     },
     "metadata": {},
     "execution_count": 194
    }
   ],
   "source": [
    "len(wiki_movies_raw)"
   ]
  },
  {
   "cell_type": "code",
   "execution_count": 195,
   "metadata": {},
   "outputs": [],
   "source": [
    "# First 5 records\n",
    "#wiki_movies_raw[:5]"
   ]
  },
  {
   "cell_type": "code",
   "execution_count": 196,
   "metadata": {},
   "outputs": [],
   "source": [
    "# Last 5 records\n",
    "#wiki_movies_raw[-5:]"
   ]
  },
  {
   "cell_type": "code",
   "execution_count": 197,
   "metadata": {},
   "outputs": [],
   "source": [
    "# Some records in the middle\n",
    "#wiki_movies_raw[3600:3605]"
   ]
  },
  {
   "cell_type": "code",
   "execution_count": 249,
   "metadata": {},
   "outputs": [],
   "source": [
    "kaggle_metadata = pd.read_csv(f'{file_dir}/archive/movies_metadata.csv', low_memory=False)\n",
    "ratings = pd.read_csv(f'{file_dir}/archive/ratings.csv')"
   ]
  },
  {
   "cell_type": "code",
   "execution_count": 250,
   "metadata": {},
   "outputs": [
    {
     "output_type": "execute_result",
     "data": {
      "text/plain": [
       "       adult                              belongs_to_collection    budget  \\\n",
       "17285  False  {'id': 143588, 'name': 'Why Did I Get Married ...  20000000   \n",
       "20173  False  {'id': 133891, 'name': 'Confessions Collection...         0   \n",
       "42030  False                                                NaN         0   \n",
       "13182  False                                                NaN         0   \n",
       "10487  False                                                NaN         0   \n",
       "39045  False                                                NaN         0   \n",
       "22465  False                                                NaN         0   \n",
       "41136  False                                                NaN         0   \n",
       "17305  False                                                NaN  20000000   \n",
       "19567  False                                                NaN   8000000   \n",
       "40722  False                                                NaN         0   \n",
       "16807  False                                                NaN         0   \n",
       "20252  False  {'id': 59235, 'name': 'Jesse Stone Collection'...         0   \n",
       "2992   False                                                NaN  18000000   \n",
       "10011  False                                                NaN         0   \n",
       "19185  False                                                NaN   8000000   \n",
       "7081   False                                                NaN         0   \n",
       "39907  False                                                NaN   2500000   \n",
       "23656  False                                                NaN         0   \n",
       "12508  False                                                NaN  35000000   \n",
       "\n",
       "                                                  genres  \\\n",
       "17285  [{'id': 35, 'name': 'Comedy'}, {'id': 10749, '...   \n",
       "20173                     [{'id': 35, 'name': 'Comedy'}]   \n",
       "42030                      [{'id': 18, 'name': 'Drama'}]   \n",
       "13182  [{'id': 27, 'name': 'Horror'}, {'id': 53, 'nam...   \n",
       "10487                      [{'id': 18, 'name': 'Drama'}]   \n",
       "39045  [{'id': 35, 'name': 'Comedy'}, {'id': 18, 'nam...   \n",
       "22465  [{'id': 35, 'name': 'Comedy'}, {'id': 10749, '...   \n",
       "41136  [{'id': 878, 'name': 'Science Fiction'}, {'id'...   \n",
       "17305  [{'id': 35, 'name': 'Comedy'}, {'id': 10751, '...   \n",
       "19567  [{'id': 18, 'name': 'Drama'}, {'id': 10749, 'n...   \n",
       "40722                      [{'id': 18, 'name': 'Drama'}]   \n",
       "16807                     [{'id': 27, 'name': 'Horror'}]   \n",
       "20252  [{'id': 10770, 'name': 'TV Movie'}, {'id': 18,...   \n",
       "2992                       [{'id': 18, 'name': 'Drama'}]   \n",
       "10011                                                 []   \n",
       "19185  [{'id': 18, 'name': 'Drama'}, {'id': 35, 'name...   \n",
       "7081                       [{'id': 18, 'name': 'Drama'}]   \n",
       "39907  [{'id': 27, 'name': 'Horror'}, {'id': 80, 'nam...   \n",
       "23656  [{'id': 35, 'name': 'Comedy'}, {'id': 14, 'nam...   \n",
       "12508  [{'id': 18, 'name': 'Drama'}, {'id': 80, 'name...   \n",
       "\n",
       "                                                homepage      id    imdb_id  \\\n",
       "17285          http://www.whydidigetmarriedtoomovie.com/   35688  tt1391137   \n",
       "20173                                                NaN   34905  tt0072814   \n",
       "42030                     http://www.claireinmotion.com/  381008  tt5432114   \n",
       "13182                                                NaN   39409  tt0044078   \n",
       "10487                                                NaN  226594  tt0116696   \n",
       "39045                                                NaN  110283  tt0104874   \n",
       "22465                                                NaN   54773  tt0026409   \n",
       "41136                             http://rwdthemovie.com  300321  tt3836480   \n",
       "17305                         http://judymoodymovie.com/   60062  tt1547230   \n",
       "19567                                                NaN   38753  tt1396221   \n",
       "40722  http://www.levelk.dk/index.php/2011-11-22-14-2...  159432  tt1970076   \n",
       "16807                                                NaN   29865  tt0478303   \n",
       "20252                                                NaN   59238  tt1710573   \n",
       "2992                                                 NaN   38557  tt0088007   \n",
       "10011       http://www.tlareleasing.com/deathofadynasty/   25007  tt0361498   \n",
       "19185                                                NaN   93676  tt1703125   \n",
       "7081                                                 NaN     405  tt0047528   \n",
       "39907                                                NaN   22745  tt1326260   \n",
       "23656                                                NaN   43387  tt0041387   \n",
       "12508             http://www.sonypictures.com/movies/21/    8065  tt0478087   \n",
       "\n",
       "      original_language                           original_title  \\\n",
       "17285                en               Why Did I Get Married Too?   \n",
       "20173                en           Confessions of a Pop Performer   \n",
       "42030                en                         Claire in Motion   \n",
       "13182                en                         The Strange Door   \n",
       "10487                en                                Jerusalem   \n",
       "39045                ja                                   ミンボーの女   \n",
       "22465                en                          The Gilded Lily   \n",
       "41136                en                                      RWD   \n",
       "17305                en     Judy Moody and the Not Bummer Summer   \n",
       "19567                en                             Passion Play   \n",
       "40722                da                         You & Me Forever   \n",
       "16807                en                            Trapped Ashes   \n",
       "20252                en              Jesse Stone: Innocents Lost   \n",
       "2992                 en                                The River   \n",
       "10011                en                       Death of a Dynasty   \n",
       "19185                en  Someday This Pain Will Be Useful to You   \n",
       "7081                 it                                La strada   \n",
       "39907                en                           The Seamstress   \n",
       "23656                en                                  Francis   \n",
       "12508                en                                       21   \n",
       "\n",
       "                                                overview  ... release_date  \\\n",
       "17285  Four couples reunite for their annual vacation...  ...   2010-04-02   \n",
       "20173  Either you've got it or you haven't - some lik...  ...   1975-01-01   \n",
       "42030  Claire is sure of herself, her work and family...  ...   2017-01-13   \n",
       "13182  The wicked Alain plots an elaborate revenge ag...  ...   1951-06-21   \n",
       "10487  Members of a devout Christian congregation try...  ...   1996-09-05   \n",
       "39045  A grand old Japanese hotel is trying to get a ...  ...   1992-05-16   \n",
       "22465  New York stenographer Marilyn David meets Engl...  ...   1935-01-25   \n",
       "41136  Two men went searching for ghosts, but they fo...  ...   2015-09-26   \n",
       "17305  Third-grader Judy Moody sets out to have the m...  ...   2011-06-10   \n",
       "19567  An angel under the thumb of a ruthless gangste...  ...   2010-09-10   \n",
       "40722  When Laura and Christine meet Maria, their fri...  ...   2012-09-13   \n",
       "16807  Trapped in a house of horror, seven people dis...  ...   2006-09-12   \n",
       "20252  Jesse investigates the suspicious death of a y...  ...   2011-05-21   \n",
       "2992   Farming family battles severe storms, a bank t...  ...   1984-12-01   \n",
       "10011  A story which centers around Dave Katz, a jour...  ...   2005-04-29   \n",
       "19185  A vulnerable teenager with a deep perception o...  ...   2011-11-02   \n",
       "7081   A traveling strongman, Zampano, repays the dea...  ...   1954-07-16   \n",
       "39907  The Seamstress was brought into being by the d...  ...   2009-09-24   \n",
       "23656  The truthful soldier Stirling didn't know how ...  ...   1950-01-01   \n",
       "12508  Ben Campbell is a young, highly intelligent, s...  ...   2008-03-27   \n",
       "\n",
       "          revenue runtime                                   spoken_languages  \\\n",
       "17285  60072596.0   121.0           [{'iso_639_1': 'en', 'name': 'English'}]   \n",
       "20173         0.0    91.0           [{'iso_639_1': 'en', 'name': 'English'}]   \n",
       "42030         0.0    83.0           [{'iso_639_1': 'en', 'name': 'English'}]   \n",
       "13182         0.0    81.0           [{'iso_639_1': 'en', 'name': 'English'}]   \n",
       "10487         0.0   168.0  [{'iso_639_1': 'sv', 'name': 'svenska'}, {'iso...   \n",
       "39045         0.0   123.0               [{'iso_639_1': 'ja', 'name': '日本語'}]   \n",
       "22465         0.0    80.0           [{'iso_639_1': 'en', 'name': 'English'}]   \n",
       "41136         0.0    80.0           [{'iso_639_1': 'en', 'name': 'English'}]   \n",
       "17305  14166853.0    91.0           [{'iso_639_1': 'en', 'name': 'English'}]   \n",
       "19567         0.0    94.0           [{'iso_639_1': 'en', 'name': 'English'}]   \n",
       "40722         0.0    82.0             [{'iso_639_1': 'da', 'name': 'Dansk'}]   \n",
       "16807         0.0   105.0           [{'iso_639_1': 'en', 'name': 'English'}]   \n",
       "20252         0.0    90.0  [{'iso_639_1': 'en', 'name': 'English'}, {'iso...   \n",
       "2992   11500000.0   122.0           [{'iso_639_1': 'en', 'name': 'English'}]   \n",
       "10011     42108.0    92.0           [{'iso_639_1': 'en', 'name': 'English'}]   \n",
       "19185         0.0    96.0  [{'iso_639_1': 'en', 'name': 'English'}, {'iso...   \n",
       "7081          0.0   104.0          [{'iso_639_1': 'it', 'name': 'Italiano'}]   \n",
       "39907         0.0    85.0           [{'iso_639_1': 'en', 'name': 'English'}]   \n",
       "23656         0.0    91.0           [{'iso_639_1': 'en', 'name': 'English'}]   \n",
       "12508  69823199.0   123.0           [{'iso_639_1': 'en', 'name': 'English'}]   \n",
       "\n",
       "                status                                            tagline  \\\n",
       "17285         Released   Marriage is an institution they're committed to.   \n",
       "20173         Released  The dirty window cleaner finds out pop is just...   \n",
       "42030         Released                                                NaN   \n",
       "13182         Released   Robert Louis Stevenson's masterpiece of Terror !   \n",
       "10487         Released                                                NaN   \n",
       "39045         Released        Minbo: the Gentle Art of Japanese Extortion   \n",
       "22465         Released                                                NaN   \n",
       "41136  Post Production               Kill your past... Rewind your future   \n",
       "17305         Released                      Supermegatotally thrilladelic   \n",
       "19567         Released                       Love Is Stronger Than Death.   \n",
       "40722         Released                                                NaN   \n",
       "16807         Released                                                NaN   \n",
       "20252         Released                                                NaN   \n",
       "2992          Released  He might be able to hold back the river. But c...   \n",
       "10011         Released                                                NaN   \n",
       "19185         Released                                                NaN   \n",
       "7081          Released  You've been hearing about a great picture call...   \n",
       "39907         Released      A million ways to die......this is the worst.   \n",
       "23656         Released  A Talking Mule....the funniest film surprise i...   \n",
       "12508         Released  They proved the Vegas Blackjack System was bea...   \n",
       "\n",
       "                                             title  video vote_average  \\\n",
       "17285                   Why Did I Get Married Too?  False          6.1   \n",
       "20173               Confessions of a Pop Performer  False          7.5   \n",
       "42030                             Claire in Motion  False          4.9   \n",
       "13182                             The Strange Door  False          6.3   \n",
       "10487                                    Jerusalem  False          6.0   \n",
       "39045  Minbo: the Gentle Art of Japanese Extortion  False          4.5   \n",
       "22465                              The Gilded Lily  False          0.0   \n",
       "41136                                          RWD  False          3.6   \n",
       "17305         Judy Moody and the Not Bummer Summer  False          5.1   \n",
       "19567                                 Passion Play  False          5.2   \n",
       "40722                             You & Me Forever  False          5.1   \n",
       "16807                                Trapped Ashes  False          4.9   \n",
       "20252                  Jesse Stone: Innocents Lost  False          6.1   \n",
       "2992                                     The River  False          6.5   \n",
       "10011                           Death of a Dynasty  False          4.0   \n",
       "19185      Someday This Pain Will Be Useful to You  False          5.6   \n",
       "7081                                     La Strada  False          7.5   \n",
       "39907                               The Seamstress  False          4.0   \n",
       "23656                                      Francis  False          6.6   \n",
       "12508                                           21  False          6.5   \n",
       "\n",
       "      vote_count  \n",
       "17285       29.0  \n",
       "20173        4.0  \n",
       "42030        9.0  \n",
       "13182        7.0  \n",
       "10487        5.0  \n",
       "39045        1.0  \n",
       "22465        0.0  \n",
       "41136        5.0  \n",
       "17305       14.0  \n",
       "19567       28.0  \n",
       "40722        6.0  \n",
       "16807        9.0  \n",
       "20252       18.0  \n",
       "2992        21.0  \n",
       "10011        2.0  \n",
       "19185       39.0  \n",
       "7081       196.0  \n",
       "39907       13.0  \n",
       "23656        8.0  \n",
       "12508     1406.0  \n",
       "\n",
       "[20 rows x 24 columns]"
      ],
      "text/html": "<div>\n<style scoped>\n    .dataframe tbody tr th:only-of-type {\n        vertical-align: middle;\n    }\n\n    .dataframe tbody tr th {\n        vertical-align: top;\n    }\n\n    .dataframe thead th {\n        text-align: right;\n    }\n</style>\n<table border=\"1\" class=\"dataframe\">\n  <thead>\n    <tr style=\"text-align: right;\">\n      <th></th>\n      <th>adult</th>\n      <th>belongs_to_collection</th>\n      <th>budget</th>\n      <th>genres</th>\n      <th>homepage</th>\n      <th>id</th>\n      <th>imdb_id</th>\n      <th>original_language</th>\n      <th>original_title</th>\n      <th>overview</th>\n      <th>...</th>\n      <th>release_date</th>\n      <th>revenue</th>\n      <th>runtime</th>\n      <th>spoken_languages</th>\n      <th>status</th>\n      <th>tagline</th>\n      <th>title</th>\n      <th>video</th>\n      <th>vote_average</th>\n      <th>vote_count</th>\n    </tr>\n  </thead>\n  <tbody>\n    <tr>\n      <th>17285</th>\n      <td>False</td>\n      <td>{'id': 143588, 'name': 'Why Did I Get Married ...</td>\n      <td>20000000</td>\n      <td>[{'id': 35, 'name': 'Comedy'}, {'id': 10749, '...</td>\n      <td>http://www.whydidigetmarriedtoomovie.com/</td>\n      <td>35688</td>\n      <td>tt1391137</td>\n      <td>en</td>\n      <td>Why Did I Get Married Too?</td>\n      <td>Four couples reunite for their annual vacation...</td>\n      <td>...</td>\n      <td>2010-04-02</td>\n      <td>60072596.0</td>\n      <td>121.0</td>\n      <td>[{'iso_639_1': 'en', 'name': 'English'}]</td>\n      <td>Released</td>\n      <td>Marriage is an institution they're committed to.</td>\n      <td>Why Did I Get Married Too?</td>\n      <td>False</td>\n      <td>6.1</td>\n      <td>29.0</td>\n    </tr>\n    <tr>\n      <th>20173</th>\n      <td>False</td>\n      <td>{'id': 133891, 'name': 'Confessions Collection...</td>\n      <td>0</td>\n      <td>[{'id': 35, 'name': 'Comedy'}]</td>\n      <td>NaN</td>\n      <td>34905</td>\n      <td>tt0072814</td>\n      <td>en</td>\n      <td>Confessions of a Pop Performer</td>\n      <td>Either you've got it or you haven't - some lik...</td>\n      <td>...</td>\n      <td>1975-01-01</td>\n      <td>0.0</td>\n      <td>91.0</td>\n      <td>[{'iso_639_1': 'en', 'name': 'English'}]</td>\n      <td>Released</td>\n      <td>The dirty window cleaner finds out pop is just...</td>\n      <td>Confessions of a Pop Performer</td>\n      <td>False</td>\n      <td>7.5</td>\n      <td>4.0</td>\n    </tr>\n    <tr>\n      <th>42030</th>\n      <td>False</td>\n      <td>NaN</td>\n      <td>0</td>\n      <td>[{'id': 18, 'name': 'Drama'}]</td>\n      <td>http://www.claireinmotion.com/</td>\n      <td>381008</td>\n      <td>tt5432114</td>\n      <td>en</td>\n      <td>Claire in Motion</td>\n      <td>Claire is sure of herself, her work and family...</td>\n      <td>...</td>\n      <td>2017-01-13</td>\n      <td>0.0</td>\n      <td>83.0</td>\n      <td>[{'iso_639_1': 'en', 'name': 'English'}]</td>\n      <td>Released</td>\n      <td>NaN</td>\n      <td>Claire in Motion</td>\n      <td>False</td>\n      <td>4.9</td>\n      <td>9.0</td>\n    </tr>\n    <tr>\n      <th>13182</th>\n      <td>False</td>\n      <td>NaN</td>\n      <td>0</td>\n      <td>[{'id': 27, 'name': 'Horror'}, {'id': 53, 'nam...</td>\n      <td>NaN</td>\n      <td>39409</td>\n      <td>tt0044078</td>\n      <td>en</td>\n      <td>The Strange Door</td>\n      <td>The wicked Alain plots an elaborate revenge ag...</td>\n      <td>...</td>\n      <td>1951-06-21</td>\n      <td>0.0</td>\n      <td>81.0</td>\n      <td>[{'iso_639_1': 'en', 'name': 'English'}]</td>\n      <td>Released</td>\n      <td>Robert Louis Stevenson's masterpiece of Terror !</td>\n      <td>The Strange Door</td>\n      <td>False</td>\n      <td>6.3</td>\n      <td>7.0</td>\n    </tr>\n    <tr>\n      <th>10487</th>\n      <td>False</td>\n      <td>NaN</td>\n      <td>0</td>\n      <td>[{'id': 18, 'name': 'Drama'}]</td>\n      <td>NaN</td>\n      <td>226594</td>\n      <td>tt0116696</td>\n      <td>en</td>\n      <td>Jerusalem</td>\n      <td>Members of a devout Christian congregation try...</td>\n      <td>...</td>\n      <td>1996-09-05</td>\n      <td>0.0</td>\n      <td>168.0</td>\n      <td>[{'iso_639_1': 'sv', 'name': 'svenska'}, {'iso...</td>\n      <td>Released</td>\n      <td>NaN</td>\n      <td>Jerusalem</td>\n      <td>False</td>\n      <td>6.0</td>\n      <td>5.0</td>\n    </tr>\n    <tr>\n      <th>39045</th>\n      <td>False</td>\n      <td>NaN</td>\n      <td>0</td>\n      <td>[{'id': 35, 'name': 'Comedy'}, {'id': 18, 'nam...</td>\n      <td>NaN</td>\n      <td>110283</td>\n      <td>tt0104874</td>\n      <td>ja</td>\n      <td>ミンボーの女</td>\n      <td>A grand old Japanese hotel is trying to get a ...</td>\n      <td>...</td>\n      <td>1992-05-16</td>\n      <td>0.0</td>\n      <td>123.0</td>\n      <td>[{'iso_639_1': 'ja', 'name': '日本語'}]</td>\n      <td>Released</td>\n      <td>Minbo: the Gentle Art of Japanese Extortion</td>\n      <td>Minbo: the Gentle Art of Japanese Extortion</td>\n      <td>False</td>\n      <td>4.5</td>\n      <td>1.0</td>\n    </tr>\n    <tr>\n      <th>22465</th>\n      <td>False</td>\n      <td>NaN</td>\n      <td>0</td>\n      <td>[{'id': 35, 'name': 'Comedy'}, {'id': 10749, '...</td>\n      <td>NaN</td>\n      <td>54773</td>\n      <td>tt0026409</td>\n      <td>en</td>\n      <td>The Gilded Lily</td>\n      <td>New York stenographer Marilyn David meets Engl...</td>\n      <td>...</td>\n      <td>1935-01-25</td>\n      <td>0.0</td>\n      <td>80.0</td>\n      <td>[{'iso_639_1': 'en', 'name': 'English'}]</td>\n      <td>Released</td>\n      <td>NaN</td>\n      <td>The Gilded Lily</td>\n      <td>False</td>\n      <td>0.0</td>\n      <td>0.0</td>\n    </tr>\n    <tr>\n      <th>41136</th>\n      <td>False</td>\n      <td>NaN</td>\n      <td>0</td>\n      <td>[{'id': 878, 'name': 'Science Fiction'}, {'id'...</td>\n      <td>http://rwdthemovie.com</td>\n      <td>300321</td>\n      <td>tt3836480</td>\n      <td>en</td>\n      <td>RWD</td>\n      <td>Two men went searching for ghosts, but they fo...</td>\n      <td>...</td>\n      <td>2015-09-26</td>\n      <td>0.0</td>\n      <td>80.0</td>\n      <td>[{'iso_639_1': 'en', 'name': 'English'}]</td>\n      <td>Post Production</td>\n      <td>Kill your past... Rewind your future</td>\n      <td>RWD</td>\n      <td>False</td>\n      <td>3.6</td>\n      <td>5.0</td>\n    </tr>\n    <tr>\n      <th>17305</th>\n      <td>False</td>\n      <td>NaN</td>\n      <td>20000000</td>\n      <td>[{'id': 35, 'name': 'Comedy'}, {'id': 10751, '...</td>\n      <td>http://judymoodymovie.com/</td>\n      <td>60062</td>\n      <td>tt1547230</td>\n      <td>en</td>\n      <td>Judy Moody and the Not Bummer Summer</td>\n      <td>Third-grader Judy Moody sets out to have the m...</td>\n      <td>...</td>\n      <td>2011-06-10</td>\n      <td>14166853.0</td>\n      <td>91.0</td>\n      <td>[{'iso_639_1': 'en', 'name': 'English'}]</td>\n      <td>Released</td>\n      <td>Supermegatotally thrilladelic</td>\n      <td>Judy Moody and the Not Bummer Summer</td>\n      <td>False</td>\n      <td>5.1</td>\n      <td>14.0</td>\n    </tr>\n    <tr>\n      <th>19567</th>\n      <td>False</td>\n      <td>NaN</td>\n      <td>8000000</td>\n      <td>[{'id': 18, 'name': 'Drama'}, {'id': 10749, 'n...</td>\n      <td>NaN</td>\n      <td>38753</td>\n      <td>tt1396221</td>\n      <td>en</td>\n      <td>Passion Play</td>\n      <td>An angel under the thumb of a ruthless gangste...</td>\n      <td>...</td>\n      <td>2010-09-10</td>\n      <td>0.0</td>\n      <td>94.0</td>\n      <td>[{'iso_639_1': 'en', 'name': 'English'}]</td>\n      <td>Released</td>\n      <td>Love Is Stronger Than Death.</td>\n      <td>Passion Play</td>\n      <td>False</td>\n      <td>5.2</td>\n      <td>28.0</td>\n    </tr>\n    <tr>\n      <th>40722</th>\n      <td>False</td>\n      <td>NaN</td>\n      <td>0</td>\n      <td>[{'id': 18, 'name': 'Drama'}]</td>\n      <td>http://www.levelk.dk/index.php/2011-11-22-14-2...</td>\n      <td>159432</td>\n      <td>tt1970076</td>\n      <td>da</td>\n      <td>You &amp; Me Forever</td>\n      <td>When Laura and Christine meet Maria, their fri...</td>\n      <td>...</td>\n      <td>2012-09-13</td>\n      <td>0.0</td>\n      <td>82.0</td>\n      <td>[{'iso_639_1': 'da', 'name': 'Dansk'}]</td>\n      <td>Released</td>\n      <td>NaN</td>\n      <td>You &amp; Me Forever</td>\n      <td>False</td>\n      <td>5.1</td>\n      <td>6.0</td>\n    </tr>\n    <tr>\n      <th>16807</th>\n      <td>False</td>\n      <td>NaN</td>\n      <td>0</td>\n      <td>[{'id': 27, 'name': 'Horror'}]</td>\n      <td>NaN</td>\n      <td>29865</td>\n      <td>tt0478303</td>\n      <td>en</td>\n      <td>Trapped Ashes</td>\n      <td>Trapped in a house of horror, seven people dis...</td>\n      <td>...</td>\n      <td>2006-09-12</td>\n      <td>0.0</td>\n      <td>105.0</td>\n      <td>[{'iso_639_1': 'en', 'name': 'English'}]</td>\n      <td>Released</td>\n      <td>NaN</td>\n      <td>Trapped Ashes</td>\n      <td>False</td>\n      <td>4.9</td>\n      <td>9.0</td>\n    </tr>\n    <tr>\n      <th>20252</th>\n      <td>False</td>\n      <td>{'id': 59235, 'name': 'Jesse Stone Collection'...</td>\n      <td>0</td>\n      <td>[{'id': 10770, 'name': 'TV Movie'}, {'id': 18,...</td>\n      <td>NaN</td>\n      <td>59238</td>\n      <td>tt1710573</td>\n      <td>en</td>\n      <td>Jesse Stone: Innocents Lost</td>\n      <td>Jesse investigates the suspicious death of a y...</td>\n      <td>...</td>\n      <td>2011-05-21</td>\n      <td>0.0</td>\n      <td>90.0</td>\n      <td>[{'iso_639_1': 'en', 'name': 'English'}, {'iso...</td>\n      <td>Released</td>\n      <td>NaN</td>\n      <td>Jesse Stone: Innocents Lost</td>\n      <td>False</td>\n      <td>6.1</td>\n      <td>18.0</td>\n    </tr>\n    <tr>\n      <th>2992</th>\n      <td>False</td>\n      <td>NaN</td>\n      <td>18000000</td>\n      <td>[{'id': 18, 'name': 'Drama'}]</td>\n      <td>NaN</td>\n      <td>38557</td>\n      <td>tt0088007</td>\n      <td>en</td>\n      <td>The River</td>\n      <td>Farming family battles severe storms, a bank t...</td>\n      <td>...</td>\n      <td>1984-12-01</td>\n      <td>11500000.0</td>\n      <td>122.0</td>\n      <td>[{'iso_639_1': 'en', 'name': 'English'}]</td>\n      <td>Released</td>\n      <td>He might be able to hold back the river. But c...</td>\n      <td>The River</td>\n      <td>False</td>\n      <td>6.5</td>\n      <td>21.0</td>\n    </tr>\n    <tr>\n      <th>10011</th>\n      <td>False</td>\n      <td>NaN</td>\n      <td>0</td>\n      <td>[]</td>\n      <td>http://www.tlareleasing.com/deathofadynasty/</td>\n      <td>25007</td>\n      <td>tt0361498</td>\n      <td>en</td>\n      <td>Death of a Dynasty</td>\n      <td>A story which centers around Dave Katz, a jour...</td>\n      <td>...</td>\n      <td>2005-04-29</td>\n      <td>42108.0</td>\n      <td>92.0</td>\n      <td>[{'iso_639_1': 'en', 'name': 'English'}]</td>\n      <td>Released</td>\n      <td>NaN</td>\n      <td>Death of a Dynasty</td>\n      <td>False</td>\n      <td>4.0</td>\n      <td>2.0</td>\n    </tr>\n    <tr>\n      <th>19185</th>\n      <td>False</td>\n      <td>NaN</td>\n      <td>8000000</td>\n      <td>[{'id': 18, 'name': 'Drama'}, {'id': 35, 'name...</td>\n      <td>NaN</td>\n      <td>93676</td>\n      <td>tt1703125</td>\n      <td>en</td>\n      <td>Someday This Pain Will Be Useful to You</td>\n      <td>A vulnerable teenager with a deep perception o...</td>\n      <td>...</td>\n      <td>2011-11-02</td>\n      <td>0.0</td>\n      <td>96.0</td>\n      <td>[{'iso_639_1': 'en', 'name': 'English'}, {'iso...</td>\n      <td>Released</td>\n      <td>NaN</td>\n      <td>Someday This Pain Will Be Useful to You</td>\n      <td>False</td>\n      <td>5.6</td>\n      <td>39.0</td>\n    </tr>\n    <tr>\n      <th>7081</th>\n      <td>False</td>\n      <td>NaN</td>\n      <td>0</td>\n      <td>[{'id': 18, 'name': 'Drama'}]</td>\n      <td>NaN</td>\n      <td>405</td>\n      <td>tt0047528</td>\n      <td>it</td>\n      <td>La strada</td>\n      <td>A traveling strongman, Zampano, repays the dea...</td>\n      <td>...</td>\n      <td>1954-07-16</td>\n      <td>0.0</td>\n      <td>104.0</td>\n      <td>[{'iso_639_1': 'it', 'name': 'Italiano'}]</td>\n      <td>Released</td>\n      <td>You've been hearing about a great picture call...</td>\n      <td>La Strada</td>\n      <td>False</td>\n      <td>7.5</td>\n      <td>196.0</td>\n    </tr>\n    <tr>\n      <th>39907</th>\n      <td>False</td>\n      <td>NaN</td>\n      <td>2500000</td>\n      <td>[{'id': 27, 'name': 'Horror'}, {'id': 80, 'nam...</td>\n      <td>NaN</td>\n      <td>22745</td>\n      <td>tt1326260</td>\n      <td>en</td>\n      <td>The Seamstress</td>\n      <td>The Seamstress was brought into being by the d...</td>\n      <td>...</td>\n      <td>2009-09-24</td>\n      <td>0.0</td>\n      <td>85.0</td>\n      <td>[{'iso_639_1': 'en', 'name': 'English'}]</td>\n      <td>Released</td>\n      <td>A million ways to die......this is the worst.</td>\n      <td>The Seamstress</td>\n      <td>False</td>\n      <td>4.0</td>\n      <td>13.0</td>\n    </tr>\n    <tr>\n      <th>23656</th>\n      <td>False</td>\n      <td>NaN</td>\n      <td>0</td>\n      <td>[{'id': 35, 'name': 'Comedy'}, {'id': 14, 'nam...</td>\n      <td>NaN</td>\n      <td>43387</td>\n      <td>tt0041387</td>\n      <td>en</td>\n      <td>Francis</td>\n      <td>The truthful soldier Stirling didn't know how ...</td>\n      <td>...</td>\n      <td>1950-01-01</td>\n      <td>0.0</td>\n      <td>91.0</td>\n      <td>[{'iso_639_1': 'en', 'name': 'English'}]</td>\n      <td>Released</td>\n      <td>A Talking Mule....the funniest film surprise i...</td>\n      <td>Francis</td>\n      <td>False</td>\n      <td>6.6</td>\n      <td>8.0</td>\n    </tr>\n    <tr>\n      <th>12508</th>\n      <td>False</td>\n      <td>NaN</td>\n      <td>35000000</td>\n      <td>[{'id': 18, 'name': 'Drama'}, {'id': 80, 'name...</td>\n      <td>http://www.sonypictures.com/movies/21/</td>\n      <td>8065</td>\n      <td>tt0478087</td>\n      <td>en</td>\n      <td>21</td>\n      <td>Ben Campbell is a young, highly intelligent, s...</td>\n      <td>...</td>\n      <td>2008-03-27</td>\n      <td>69823199.0</td>\n      <td>123.0</td>\n      <td>[{'iso_639_1': 'en', 'name': 'English'}]</td>\n      <td>Released</td>\n      <td>They proved the Vegas Blackjack System was bea...</td>\n      <td>21</td>\n      <td>False</td>\n      <td>6.5</td>\n      <td>1406.0</td>\n    </tr>\n  </tbody>\n</table>\n<p>20 rows × 24 columns</p>\n</div>"
     },
     "metadata": {},
     "execution_count": 250
    }
   ],
   "source": [
    "kaggle_metadata.sample(n=20)"
   ]
  },
  {
   "cell_type": "code",
   "execution_count": 200,
   "metadata": {},
   "outputs": [],
   "source": [
    "wiki_movies_df = pd.DataFrame(wiki_movies_raw)"
   ]
  },
  {
   "cell_type": "code",
   "execution_count": 201,
   "metadata": {},
   "outputs": [
    {
     "output_type": "execute_result",
     "data": {
      "text/plain": [
       "                                                 url    year  \\\n",
       "0  https://en.wikipedia.org/wiki/The_Adventures_o...  1990.0   \n",
       "1  https://en.wikipedia.org/wiki/After_Dark,_My_S...  1990.0   \n",
       "2   https://en.wikipedia.org/wiki/Air_America_(film)  1990.0   \n",
       "3    https://en.wikipedia.org/wiki/Alice_(1990_film)  1990.0   \n",
       "4      https://en.wikipedia.org/wiki/Almost_an_Angel  1990.0   \n",
       "5        https://en.wikipedia.org/wiki/The_Ambulance  1990.0   \n",
       "\n",
       "                               imdb_link                            title  \\\n",
       "0  https://www.imdb.com/title/tt0098987/  The Adventures of Ford Fairlane   \n",
       "1  https://www.imdb.com/title/tt0098994/             After Dark, My Sweet   \n",
       "2  https://www.imdb.com/title/tt0099005/                      Air America   \n",
       "3  https://www.imdb.com/title/tt0099012/                            Alice   \n",
       "4  https://www.imdb.com/title/tt0099018/                  Almost an Angel   \n",
       "5  https://www.imdb.com/title/tt0099026/                    The Ambulance   \n",
       "\n",
       "          Directed by                                    Produced by  \\\n",
       "0        Renny Harlin                     [Steve Perry, Joel Silver]   \n",
       "1         James Foley                    [Ric Kidney, Robert Redlin]   \n",
       "2  Roger Spottiswoode                                 Daniel Melnick   \n",
       "3         Woody Allen                                Robert Greenhut   \n",
       "4        John Cornell                                   John Cornell   \n",
       "5         Larry Cohen  [Larry Cohen, Moctesuma Esparza, Robert Katz]   \n",
       "\n",
       "                                Screenplay by                     Story by  \\\n",
       "0  [David Arnott, James Cappe, Daniel Waters]  [David Arnott, James Cappe]   \n",
       "1                [James Foley, Robert Redlin]                          NaN   \n",
       "2                  [John Eskow, Richard Rush]                          NaN   \n",
       "3                                         NaN                          NaN   \n",
       "4                                         NaN                          NaN   \n",
       "5                                         NaN                          NaN   \n",
       "\n",
       "                                            Based on  \\\n",
       "0                        [Characters, by Rex Weiner]   \n",
       "1  [the novel, After Dark, My Sweet, by, Jim Thom...   \n",
       "2             [Air America, by, Christopher Robbins]   \n",
       "3                                                NaN   \n",
       "4                                                NaN   \n",
       "5                                                NaN   \n",
       "\n",
       "                                            Starring  ... Predecessor  \\\n",
       "0  [Andrew Dice Clay, Wayne Newton, Priscilla Pre...  ...         NaN   \n",
       "1  [Jason Patric, Rachel Ward, Bruce Dern, George...  ...         NaN   \n",
       "2  [Mel Gibson, Robert Downey Jr., Nancy Travis, ...  ...         NaN   \n",
       "3  [Alec Baldwin, Blythe Danner, Judy Davis, Mia ...  ...         NaN   \n",
       "4        [Paul Hogan, Elias Koteas, Linda Kozlowski]  ...         NaN   \n",
       "5  [Eric Roberts, James Earl Jones, Red Buttons, ...  ...         NaN   \n",
       "\n",
       "  Founders Area served Products Services Russian Hebrew Revenue  \\\n",
       "0      NaN         NaN      NaN      NaN     NaN    NaN     NaN   \n",
       "1      NaN         NaN      NaN      NaN     NaN    NaN     NaN   \n",
       "2      NaN         NaN      NaN      NaN     NaN    NaN     NaN   \n",
       "3      NaN         NaN      NaN      NaN     NaN    NaN     NaN   \n",
       "4      NaN         NaN      NaN      NaN     NaN    NaN     NaN   \n",
       "5      NaN         NaN      NaN      NaN     NaN    NaN     NaN   \n",
       "\n",
       "  Operating income Polish  \n",
       "0              NaN    NaN  \n",
       "1              NaN    NaN  \n",
       "2              NaN    NaN  \n",
       "3              NaN    NaN  \n",
       "4              NaN    NaN  \n",
       "5              NaN    NaN  \n",
       "\n",
       "[6 rows x 193 columns]"
      ],
      "text/html": "<div>\n<style scoped>\n    .dataframe tbody tr th:only-of-type {\n        vertical-align: middle;\n    }\n\n    .dataframe tbody tr th {\n        vertical-align: top;\n    }\n\n    .dataframe thead th {\n        text-align: right;\n    }\n</style>\n<table border=\"1\" class=\"dataframe\">\n  <thead>\n    <tr style=\"text-align: right;\">\n      <th></th>\n      <th>url</th>\n      <th>year</th>\n      <th>imdb_link</th>\n      <th>title</th>\n      <th>Directed by</th>\n      <th>Produced by</th>\n      <th>Screenplay by</th>\n      <th>Story by</th>\n      <th>Based on</th>\n      <th>Starring</th>\n      <th>...</th>\n      <th>Predecessor</th>\n      <th>Founders</th>\n      <th>Area served</th>\n      <th>Products</th>\n      <th>Services</th>\n      <th>Russian</th>\n      <th>Hebrew</th>\n      <th>Revenue</th>\n      <th>Operating income</th>\n      <th>Polish</th>\n    </tr>\n  </thead>\n  <tbody>\n    <tr>\n      <th>0</th>\n      <td>https://en.wikipedia.org/wiki/The_Adventures_o...</td>\n      <td>1990.0</td>\n      <td>https://www.imdb.com/title/tt0098987/</td>\n      <td>The Adventures of Ford Fairlane</td>\n      <td>Renny Harlin</td>\n      <td>[Steve Perry, Joel Silver]</td>\n      <td>[David Arnott, James Cappe, Daniel Waters]</td>\n      <td>[David Arnott, James Cappe]</td>\n      <td>[Characters, by Rex Weiner]</td>\n      <td>[Andrew Dice Clay, Wayne Newton, Priscilla Pre...</td>\n      <td>...</td>\n      <td>NaN</td>\n      <td>NaN</td>\n      <td>NaN</td>\n      <td>NaN</td>\n      <td>NaN</td>\n      <td>NaN</td>\n      <td>NaN</td>\n      <td>NaN</td>\n      <td>NaN</td>\n      <td>NaN</td>\n    </tr>\n    <tr>\n      <th>1</th>\n      <td>https://en.wikipedia.org/wiki/After_Dark,_My_S...</td>\n      <td>1990.0</td>\n      <td>https://www.imdb.com/title/tt0098994/</td>\n      <td>After Dark, My Sweet</td>\n      <td>James Foley</td>\n      <td>[Ric Kidney, Robert Redlin]</td>\n      <td>[James Foley, Robert Redlin]</td>\n      <td>NaN</td>\n      <td>[the novel, After Dark, My Sweet, by, Jim Thom...</td>\n      <td>[Jason Patric, Rachel Ward, Bruce Dern, George...</td>\n      <td>...</td>\n      <td>NaN</td>\n      <td>NaN</td>\n      <td>NaN</td>\n      <td>NaN</td>\n      <td>NaN</td>\n      <td>NaN</td>\n      <td>NaN</td>\n      <td>NaN</td>\n      <td>NaN</td>\n      <td>NaN</td>\n    </tr>\n    <tr>\n      <th>2</th>\n      <td>https://en.wikipedia.org/wiki/Air_America_(film)</td>\n      <td>1990.0</td>\n      <td>https://www.imdb.com/title/tt0099005/</td>\n      <td>Air America</td>\n      <td>Roger Spottiswoode</td>\n      <td>Daniel Melnick</td>\n      <td>[John Eskow, Richard Rush]</td>\n      <td>NaN</td>\n      <td>[Air America, by, Christopher Robbins]</td>\n      <td>[Mel Gibson, Robert Downey Jr., Nancy Travis, ...</td>\n      <td>...</td>\n      <td>NaN</td>\n      <td>NaN</td>\n      <td>NaN</td>\n      <td>NaN</td>\n      <td>NaN</td>\n      <td>NaN</td>\n      <td>NaN</td>\n      <td>NaN</td>\n      <td>NaN</td>\n      <td>NaN</td>\n    </tr>\n    <tr>\n      <th>3</th>\n      <td>https://en.wikipedia.org/wiki/Alice_(1990_film)</td>\n      <td>1990.0</td>\n      <td>https://www.imdb.com/title/tt0099012/</td>\n      <td>Alice</td>\n      <td>Woody Allen</td>\n      <td>Robert Greenhut</td>\n      <td>NaN</td>\n      <td>NaN</td>\n      <td>NaN</td>\n      <td>[Alec Baldwin, Blythe Danner, Judy Davis, Mia ...</td>\n      <td>...</td>\n      <td>NaN</td>\n      <td>NaN</td>\n      <td>NaN</td>\n      <td>NaN</td>\n      <td>NaN</td>\n      <td>NaN</td>\n      <td>NaN</td>\n      <td>NaN</td>\n      <td>NaN</td>\n      <td>NaN</td>\n    </tr>\n    <tr>\n      <th>4</th>\n      <td>https://en.wikipedia.org/wiki/Almost_an_Angel</td>\n      <td>1990.0</td>\n      <td>https://www.imdb.com/title/tt0099018/</td>\n      <td>Almost an Angel</td>\n      <td>John Cornell</td>\n      <td>John Cornell</td>\n      <td>NaN</td>\n      <td>NaN</td>\n      <td>NaN</td>\n      <td>[Paul Hogan, Elias Koteas, Linda Kozlowski]</td>\n      <td>...</td>\n      <td>NaN</td>\n      <td>NaN</td>\n      <td>NaN</td>\n      <td>NaN</td>\n      <td>NaN</td>\n      <td>NaN</td>\n      <td>NaN</td>\n      <td>NaN</td>\n      <td>NaN</td>\n      <td>NaN</td>\n    </tr>\n    <tr>\n      <th>5</th>\n      <td>https://en.wikipedia.org/wiki/The_Ambulance</td>\n      <td>1990.0</td>\n      <td>https://www.imdb.com/title/tt0099026/</td>\n      <td>The Ambulance</td>\n      <td>Larry Cohen</td>\n      <td>[Larry Cohen, Moctesuma Esparza, Robert Katz]</td>\n      <td>NaN</td>\n      <td>NaN</td>\n      <td>NaN</td>\n      <td>[Eric Roberts, James Earl Jones, Red Buttons, ...</td>\n      <td>...</td>\n      <td>NaN</td>\n      <td>NaN</td>\n      <td>NaN</td>\n      <td>NaN</td>\n      <td>NaN</td>\n      <td>NaN</td>\n      <td>NaN</td>\n      <td>NaN</td>\n      <td>NaN</td>\n      <td>NaN</td>\n    </tr>\n  </tbody>\n</table>\n<p>6 rows × 193 columns</p>\n</div>"
     },
     "metadata": {},
     "execution_count": 201
    }
   ],
   "source": [
    "wiki_movies_df.head(6)"
   ]
  },
  {
   "cell_type": "code",
   "execution_count": 202,
   "metadata": {},
   "outputs": [
    {
     "output_type": "execute_result",
     "data": {
      "text/plain": [
       "['url',\n",
       " 'year',\n",
       " 'imdb_link',\n",
       " 'title',\n",
       " 'Directed by',\n",
       " 'Produced by',\n",
       " 'Screenplay by',\n",
       " 'Story by',\n",
       " 'Based on',\n",
       " 'Starring',\n",
       " 'Narrated by',\n",
       " 'Music by',\n",
       " 'Cinematography',\n",
       " 'Edited by',\n",
       " 'Productioncompany ',\n",
       " 'Distributed by',\n",
       " 'Release date',\n",
       " 'Running time',\n",
       " 'Country',\n",
       " 'Language',\n",
       " 'Budget',\n",
       " 'Box office',\n",
       " 'Written by',\n",
       " 'Genre',\n",
       " 'Theme music composer',\n",
       " 'Country of origin',\n",
       " 'Original language(s)',\n",
       " 'Producer(s)',\n",
       " 'Editor(s)',\n",
       " 'Production company(s)',\n",
       " 'Original network',\n",
       " 'Original release',\n",
       " 'Productioncompanies ',\n",
       " 'Executive producer(s)',\n",
       " 'Production location(s)',\n",
       " 'Distributor',\n",
       " 'Picture format',\n",
       " 'Audio format',\n",
       " 'Voices of',\n",
       " 'Followed by',\n",
       " 'Composer(s)',\n",
       " 'Created by',\n",
       " 'Also known as',\n",
       " 'Opening theme',\n",
       " 'No. of episodes',\n",
       " 'Preceded by',\n",
       " 'Author',\n",
       " 'Publisher',\n",
       " 'Publication date',\n",
       " 'Media type',\n",
       " 'Pages',\n",
       " 'ISBN',\n",
       " 'OCLC',\n",
       " 'LC Class',\n",
       " 'Cover artist',\n",
       " 'Series',\n",
       " 'Set in',\n",
       " 'Adaptation by',\n",
       " 'Suggested by',\n",
       " 'Biographical data',\n",
       " 'Born',\n",
       " 'Died',\n",
       " 'Resting place',\n",
       " 'Occupation',\n",
       " 'Years active',\n",
       " 'Spouse(s)',\n",
       " 'Children',\n",
       " 'Parent(s)',\n",
       " 'Genres',\n",
       " 'Instruments',\n",
       " 'Labels',\n",
       " 'Website',\n",
       " 'Traditional',\n",
       " 'Mandarin',\n",
       " 'Type',\n",
       " 'Industry',\n",
       " 'Fate',\n",
       " 'Founded',\n",
       " 'Founder',\n",
       " 'Headquarters',\n",
       " 'Parent',\n",
       " 'Released',\n",
       " 'Recorded',\n",
       " 'Venue',\n",
       " 'Length',\n",
       " 'Label',\n",
       " 'Director',\n",
       " 'Producer',\n",
       " 'Area',\n",
       " 'Coordinates',\n",
       " 'Status',\n",
       " 'Opening date',\n",
       " 'Closing date',\n",
       " 'Replaced',\n",
       " 'Replaced by',\n",
       " 'Name',\n",
       " 'Attraction type',\n",
       " 'Music',\n",
       " 'Duration',\n",
       " 'Simplified Chinese',\n",
       " 'Traditional Chinese',\n",
       " 'Hanyu Pinyin',\n",
       " 'Literal meaning',\n",
       " 'Transcriptions',\n",
       " 'Bopomofo',\n",
       " 'Gwoyeu Romatzyh',\n",
       " 'Wade–Giles',\n",
       " 'IPA',\n",
       " 'Yale Romanization',\n",
       " 'Jyutping',\n",
       " 'Hokkien POJ',\n",
       " 'Animation by',\n",
       " 'Color process',\n",
       " 'Engine(s)',\n",
       " 'Genre(s)',\n",
       " 'Actor control',\n",
       " 'Production company',\n",
       " 'Release(s)',\n",
       " 'Format(s)',\n",
       " 'Simplified',\n",
       " 'Characters',\n",
       " 'Date premiered',\n",
       " 'Place premiered',\n",
       " 'Setting',\n",
       " 'Original language',\n",
       " 'Subject',\n",
       " 'Published',\n",
       " 'Dewey Decimal',\n",
       " 'Text',\n",
       " 'Illustrator',\n",
       " 'Original title',\n",
       " 'Published in English',\n",
       " 'French',\n",
       " 'Developed by',\n",
       " 'Ending theme',\n",
       " 'No. of seasons',\n",
       " 'Nationality',\n",
       " 'Portrayed by',\n",
       " 'Alias',\n",
       " 'Species',\n",
       " 'Gender',\n",
       " 'Family',\n",
       " 'Alma mater',\n",
       " 'Camera setup',\n",
       " 'Novel(s)',\n",
       " 'Comics',\n",
       " 'Film(s)',\n",
       " 'Screen story by',\n",
       " 'Hangul',\n",
       " 'Revised Romanization',\n",
       " 'McCune–Reischauer',\n",
       " 'Developer(s)',\n",
       " 'Publisher(s)',\n",
       " 'Designer(s)',\n",
       " 'Programmer(s)',\n",
       " 'Artist(s)',\n",
       " 'Writer(s)',\n",
       " 'Engine',\n",
       " 'Platform(s)',\n",
       " 'Release',\n",
       " 'Mode(s)',\n",
       " 'Original work',\n",
       " 'Television series',\n",
       " 'Japanese',\n",
       " 'Hepburn',\n",
       " 'Literally',\n",
       " 'Cantonese',\n",
       " 'Full name',\n",
       " 'Height',\n",
       " 'Seasons',\n",
       " 'Chinese',\n",
       " 'Other names',\n",
       " 'Relatives',\n",
       " 'Yiddish',\n",
       " 'Formerly',\n",
       " 'Key people',\n",
       " 'Total assets',\n",
       " 'Owner',\n",
       " 'Number of employees',\n",
       " 'Divisions',\n",
       " 'Subsidiaries',\n",
       " 'Arabic',\n",
       " 'Romanized',\n",
       " 'Predecessor',\n",
       " 'Founders',\n",
       " 'Area served',\n",
       " 'Products',\n",
       " 'Services',\n",
       " 'Russian',\n",
       " 'Hebrew',\n",
       " 'Revenue',\n",
       " 'Operating income',\n",
       " 'Polish']"
      ]
     },
     "metadata": {},
     "execution_count": 202
    }
   ],
   "source": [
    "wiki_movies_df.columns.tolist()"
   ]
  },
  {
   "cell_type": "code",
   "execution_count": 203,
   "metadata": {},
   "outputs": [],
   "source": [
    "wiki_movies = [movie for movie in wiki_movies_raw\n",
    "               if ('Director' in movie or 'Directed by' in movie)\n",
    "                   and 'imdb_link' in movie\n",
    "                   and 'No. of episodes' not in movie]\n"
   ]
  },
  {
   "cell_type": "code",
   "execution_count": 204,
   "metadata": {},
   "outputs": [
    {
     "output_type": "execute_result",
     "data": {
      "text/plain": [
       "7076"
      ]
     },
     "metadata": {},
     "execution_count": 204
    }
   ],
   "source": [
    "len(wiki_movies)"
   ]
  },
  {
   "cell_type": "code",
   "execution_count": 205,
   "metadata": {},
   "outputs": [
    {
     "output_type": "execute_result",
     "data": {
      "text/plain": [
       "                                                 url  year  \\\n",
       "0  https://en.wikipedia.org/wiki/The_Adventures_o...  1990   \n",
       "1  https://en.wikipedia.org/wiki/After_Dark,_My_S...  1990   \n",
       "2   https://en.wikipedia.org/wiki/Air_America_(film)  1990   \n",
       "3    https://en.wikipedia.org/wiki/Alice_(1990_film)  1990   \n",
       "4      https://en.wikipedia.org/wiki/Almost_an_Angel  1990   \n",
       "\n",
       "                               imdb_link                            title  \\\n",
       "0  https://www.imdb.com/title/tt0098987/  The Adventures of Ford Fairlane   \n",
       "1  https://www.imdb.com/title/tt0098994/             After Dark, My Sweet   \n",
       "2  https://www.imdb.com/title/tt0099005/                      Air America   \n",
       "3  https://www.imdb.com/title/tt0099012/                            Alice   \n",
       "4  https://www.imdb.com/title/tt0099018/                  Almost an Angel   \n",
       "\n",
       "          Directed by                  Produced by  \\\n",
       "0        Renny Harlin   [Steve Perry, Joel Silver]   \n",
       "1         James Foley  [Ric Kidney, Robert Redlin]   \n",
       "2  Roger Spottiswoode               Daniel Melnick   \n",
       "3         Woody Allen              Robert Greenhut   \n",
       "4        John Cornell                 John Cornell   \n",
       "\n",
       "                                Screenplay by                     Story by  \\\n",
       "0  [David Arnott, James Cappe, Daniel Waters]  [David Arnott, James Cappe]   \n",
       "1                [James Foley, Robert Redlin]                          NaN   \n",
       "2                  [John Eskow, Richard Rush]                          NaN   \n",
       "3                                         NaN                          NaN   \n",
       "4                                         NaN                          NaN   \n",
       "\n",
       "                                            Based on  \\\n",
       "0                        [Characters, by Rex Weiner]   \n",
       "1  [the novel, After Dark, My Sweet, by, Jim Thom...   \n",
       "2             [Air America, by, Christopher Robbins]   \n",
       "3                                                NaN   \n",
       "4                                                NaN   \n",
       "\n",
       "                                            Starring  ... Hepburn Literally  \\\n",
       "0  [Andrew Dice Clay, Wayne Newton, Priscilla Pre...  ...     NaN       NaN   \n",
       "1  [Jason Patric, Rachel Ward, Bruce Dern, George...  ...     NaN       NaN   \n",
       "2  [Mel Gibson, Robert Downey Jr., Nancy Travis, ...  ...     NaN       NaN   \n",
       "3  [Alec Baldwin, Blythe Danner, Judy Davis, Mia ...  ...     NaN       NaN   \n",
       "4        [Paul Hogan, Elias Koteas, Linda Kozlowski]  ...     NaN       NaN   \n",
       "\n",
       "  Cantonese Chinese Yiddish Arabic Romanized Russian Hebrew Polish  \n",
       "0       NaN     NaN     NaN    NaN       NaN     NaN    NaN    NaN  \n",
       "1       NaN     NaN     NaN    NaN       NaN     NaN    NaN    NaN  \n",
       "2       NaN     NaN     NaN    NaN       NaN     NaN    NaN    NaN  \n",
       "3       NaN     NaN     NaN    NaN       NaN     NaN    NaN    NaN  \n",
       "4       NaN     NaN     NaN    NaN       NaN     NaN    NaN    NaN  \n",
       "\n",
       "[5 rows x 75 columns]"
      ],
      "text/html": "<div>\n<style scoped>\n    .dataframe tbody tr th:only-of-type {\n        vertical-align: middle;\n    }\n\n    .dataframe tbody tr th {\n        vertical-align: top;\n    }\n\n    .dataframe thead th {\n        text-align: right;\n    }\n</style>\n<table border=\"1\" class=\"dataframe\">\n  <thead>\n    <tr style=\"text-align: right;\">\n      <th></th>\n      <th>url</th>\n      <th>year</th>\n      <th>imdb_link</th>\n      <th>title</th>\n      <th>Directed by</th>\n      <th>Produced by</th>\n      <th>Screenplay by</th>\n      <th>Story by</th>\n      <th>Based on</th>\n      <th>Starring</th>\n      <th>...</th>\n      <th>Hepburn</th>\n      <th>Literally</th>\n      <th>Cantonese</th>\n      <th>Chinese</th>\n      <th>Yiddish</th>\n      <th>Arabic</th>\n      <th>Romanized</th>\n      <th>Russian</th>\n      <th>Hebrew</th>\n      <th>Polish</th>\n    </tr>\n  </thead>\n  <tbody>\n    <tr>\n      <th>0</th>\n      <td>https://en.wikipedia.org/wiki/The_Adventures_o...</td>\n      <td>1990</td>\n      <td>https://www.imdb.com/title/tt0098987/</td>\n      <td>The Adventures of Ford Fairlane</td>\n      <td>Renny Harlin</td>\n      <td>[Steve Perry, Joel Silver]</td>\n      <td>[David Arnott, James Cappe, Daniel Waters]</td>\n      <td>[David Arnott, James Cappe]</td>\n      <td>[Characters, by Rex Weiner]</td>\n      <td>[Andrew Dice Clay, Wayne Newton, Priscilla Pre...</td>\n      <td>...</td>\n      <td>NaN</td>\n      <td>NaN</td>\n      <td>NaN</td>\n      <td>NaN</td>\n      <td>NaN</td>\n      <td>NaN</td>\n      <td>NaN</td>\n      <td>NaN</td>\n      <td>NaN</td>\n      <td>NaN</td>\n    </tr>\n    <tr>\n      <th>1</th>\n      <td>https://en.wikipedia.org/wiki/After_Dark,_My_S...</td>\n      <td>1990</td>\n      <td>https://www.imdb.com/title/tt0098994/</td>\n      <td>After Dark, My Sweet</td>\n      <td>James Foley</td>\n      <td>[Ric Kidney, Robert Redlin]</td>\n      <td>[James Foley, Robert Redlin]</td>\n      <td>NaN</td>\n      <td>[the novel, After Dark, My Sweet, by, Jim Thom...</td>\n      <td>[Jason Patric, Rachel Ward, Bruce Dern, George...</td>\n      <td>...</td>\n      <td>NaN</td>\n      <td>NaN</td>\n      <td>NaN</td>\n      <td>NaN</td>\n      <td>NaN</td>\n      <td>NaN</td>\n      <td>NaN</td>\n      <td>NaN</td>\n      <td>NaN</td>\n      <td>NaN</td>\n    </tr>\n    <tr>\n      <th>2</th>\n      <td>https://en.wikipedia.org/wiki/Air_America_(film)</td>\n      <td>1990</td>\n      <td>https://www.imdb.com/title/tt0099005/</td>\n      <td>Air America</td>\n      <td>Roger Spottiswoode</td>\n      <td>Daniel Melnick</td>\n      <td>[John Eskow, Richard Rush]</td>\n      <td>NaN</td>\n      <td>[Air America, by, Christopher Robbins]</td>\n      <td>[Mel Gibson, Robert Downey Jr., Nancy Travis, ...</td>\n      <td>...</td>\n      <td>NaN</td>\n      <td>NaN</td>\n      <td>NaN</td>\n      <td>NaN</td>\n      <td>NaN</td>\n      <td>NaN</td>\n      <td>NaN</td>\n      <td>NaN</td>\n      <td>NaN</td>\n      <td>NaN</td>\n    </tr>\n    <tr>\n      <th>3</th>\n      <td>https://en.wikipedia.org/wiki/Alice_(1990_film)</td>\n      <td>1990</td>\n      <td>https://www.imdb.com/title/tt0099012/</td>\n      <td>Alice</td>\n      <td>Woody Allen</td>\n      <td>Robert Greenhut</td>\n      <td>NaN</td>\n      <td>NaN</td>\n      <td>NaN</td>\n      <td>[Alec Baldwin, Blythe Danner, Judy Davis, Mia ...</td>\n      <td>...</td>\n      <td>NaN</td>\n      <td>NaN</td>\n      <td>NaN</td>\n      <td>NaN</td>\n      <td>NaN</td>\n      <td>NaN</td>\n      <td>NaN</td>\n      <td>NaN</td>\n      <td>NaN</td>\n      <td>NaN</td>\n    </tr>\n    <tr>\n      <th>4</th>\n      <td>https://en.wikipedia.org/wiki/Almost_an_Angel</td>\n      <td>1990</td>\n      <td>https://www.imdb.com/title/tt0099018/</td>\n      <td>Almost an Angel</td>\n      <td>John Cornell</td>\n      <td>John Cornell</td>\n      <td>NaN</td>\n      <td>NaN</td>\n      <td>NaN</td>\n      <td>[Paul Hogan, Elias Koteas, Linda Kozlowski]</td>\n      <td>...</td>\n      <td>NaN</td>\n      <td>NaN</td>\n      <td>NaN</td>\n      <td>NaN</td>\n      <td>NaN</td>\n      <td>NaN</td>\n      <td>NaN</td>\n      <td>NaN</td>\n      <td>NaN</td>\n      <td>NaN</td>\n    </tr>\n  </tbody>\n</table>\n<p>5 rows × 75 columns</p>\n</div>"
     },
     "metadata": {},
     "execution_count": 205
    }
   ],
   "source": [
    "wiki_movies_df = pd.DataFrame(wiki_movies)\n",
    "wiki_movies_df.head()"
   ]
  },
  {
   "cell_type": "code",
   "execution_count": 206,
   "metadata": {},
   "outputs": [
    {
     "output_type": "execute_result",
     "data": {
      "text/plain": [
       "['Adaptation by',\n",
       " 'Also known as',\n",
       " 'Animation by',\n",
       " 'Arabic',\n",
       " 'Audio format',\n",
       " 'Based on',\n",
       " 'Box office',\n",
       " 'Budget',\n",
       " 'Cantonese',\n",
       " 'Chinese',\n",
       " 'Cinematography',\n",
       " 'Color process',\n",
       " 'Composer(s)',\n",
       " 'Country',\n",
       " 'Country of origin',\n",
       " 'Created by',\n",
       " 'Directed by',\n",
       " 'Director',\n",
       " 'Distributed by',\n",
       " 'Distributor',\n",
       " 'Edited by',\n",
       " 'Editor(s)',\n",
       " 'Executive producer(s)',\n",
       " 'Followed by',\n",
       " 'French',\n",
       " 'Genre',\n",
       " 'Hangul',\n",
       " 'Hebrew',\n",
       " 'Hepburn',\n",
       " 'Japanese',\n",
       " 'Label',\n",
       " 'Language',\n",
       " 'Length',\n",
       " 'Literally',\n",
       " 'Mandarin',\n",
       " 'McCune–Reischauer',\n",
       " 'Music by',\n",
       " 'Narrated by',\n",
       " 'Original language(s)',\n",
       " 'Original network',\n",
       " 'Original release',\n",
       " 'Original title',\n",
       " 'Picture format',\n",
       " 'Polish',\n",
       " 'Preceded by',\n",
       " 'Produced by',\n",
       " 'Producer',\n",
       " 'Producer(s)',\n",
       " 'Production company(s)',\n",
       " 'Production location(s)',\n",
       " 'Productioncompanies ',\n",
       " 'Productioncompany ',\n",
       " 'Recorded',\n",
       " 'Release date',\n",
       " 'Released',\n",
       " 'Revised Romanization',\n",
       " 'Romanized',\n",
       " 'Running time',\n",
       " 'Russian',\n",
       " 'Screen story by',\n",
       " 'Screenplay by',\n",
       " 'Simplified',\n",
       " 'Starring',\n",
       " 'Story by',\n",
       " 'Suggested by',\n",
       " 'Theme music composer',\n",
       " 'Traditional',\n",
       " 'Venue',\n",
       " 'Voices of',\n",
       " 'Written by',\n",
       " 'Yiddish',\n",
       " 'imdb_link',\n",
       " 'title',\n",
       " 'url',\n",
       " 'year']"
      ]
     },
     "metadata": {},
     "execution_count": 206
    }
   ],
   "source": [
    "sorted(wiki_movies_df.columns.tolist())"
   ]
  },
  {
   "cell_type": "code",
   "execution_count": 207,
   "metadata": {},
   "outputs": [],
   "source": [
    "def clean_movie(movie):\n",
    "    movie = dict(movie) #create a non-destructive copy\n",
    "    alternative_titles = {}\n",
    "    List = ['Also known as', 'Arabic', 'Cantonese', 'Chinese', 'French', 'Hangul', 'Hebrew', 'Hepburn', 'Japanese', 'Literally',  'Mandarin', 'McCune–Reischauer', 'Original title', 'Polish',  'Revised Romanization', 'Romanized', 'Russian', 'Simplified', 'Traditional', 'Yiddish']\n",
    "    for item in List:\n",
    "        if movie['item'].notnull()== 'True':\n",
    "            key = movie.pop('item')\n",
    "            alternative_titles['item'] = key\n",
    "    movie['alt_titles'] = alternative_titles\n",
    "    return movie"
   ]
  },
  {
   "cell_type": "code",
   "execution_count": 208,
   "metadata": {},
   "outputs": [],
   "source": [
    "    def change_column_name(old_name, new_name):\n",
    "        if old_name in movie:\n",
    "            movie[new_name] = movie.pop(old_name)"
   ]
  },
  {
   "cell_type": "code",
   "execution_count": 209,
   "metadata": {},
   "outputs": [],
   "source": [
    "def clean_movie(movie):\n",
    "    movie = movie #create a non-destructive copy\n",
    "    alt_titles = {}\n",
    "    # combine alternate titles into one list\n",
    "    for key in ['Also known as','Arabic','Cantonese','Chinese','French',\n",
    "                'Hangul','Hebrew','Hepburn','Japanese','Literally',\n",
    "                'Mandarin','McCune-Reischauer','Original title','Polish',\n",
    "                'Revised Romanization','Romanized','Russian',\n",
    "                'Simplified','Traditional','Yiddish']:\n",
    "        if key in movie:\n",
    "            alt_titles[key] = movie[key]\n",
    "            movie.pop(key)\n",
    "    if len(alt_titles) > 0:\n",
    "        movie['alt_titles'] = alt_titles\n",
    "\n",
    "    # merge column names\n",
    "    def change_column_name(old_name, new_name):\n",
    "        if old_name in movie:\n",
    "            movie[new_name] = movie.pop(old_name)\n",
    "    change_column_name('Adaptation by', 'Writer(s)')\n",
    "    change_column_name('Country of origin', 'Country')\n",
    "    change_column_name('Directed by', 'Director')\n",
    "    change_column_name('Distributed by', 'Distributor')\n",
    "    change_column_name('Edited by', 'Editor(s)')\n",
    "    change_column_name('Length', 'Running time')\n",
    "    change_column_name('Original release', 'Release date')\n",
    "    change_column_name('Music by', 'Composer(s)')\n",
    "    change_column_name('Produced by', 'Producer(s)')\n",
    "    change_column_name('Producer', 'Producer(s)')\n",
    "    change_column_name('Productioncompanies ', 'Production company(s)')\n",
    "    change_column_name('Productioncompany ', 'Production company(s)')\n",
    "    change_column_name('Released', 'Release Date')\n",
    "    change_column_name('Release Date', 'Release date')\n",
    "    change_column_name('Screen story by', 'Writer(s)')\n",
    "    change_column_name('Screenplay by', 'Writer(s)')\n",
    "    change_column_name('Story by', 'Writer(s)')\n",
    "    change_column_name('Theme music composer', 'Composer(s)')\n",
    "    change_column_name('Written by', 'Writer(s)')\n",
    "\n",
    "    return movie"
   ]
  },
  {
   "cell_type": "code",
   "execution_count": 210,
   "metadata": {},
   "outputs": [
    {
     "output_type": "execute_result",
     "data": {
      "text/plain": [
       "['Animation by',\n",
       " 'Audio format',\n",
       " 'Based on',\n",
       " 'Box office',\n",
       " 'Budget',\n",
       " 'Cinematography',\n",
       " 'Color process',\n",
       " 'Composer(s)',\n",
       " 'Country',\n",
       " 'Created by',\n",
       " 'Director',\n",
       " 'Distributor',\n",
       " 'Editor(s)',\n",
       " 'Executive producer(s)',\n",
       " 'Followed by',\n",
       " 'Genre',\n",
       " 'Label',\n",
       " 'Language',\n",
       " 'McCune–Reischauer',\n",
       " 'Narrated by',\n",
       " 'Original language(s)',\n",
       " 'Original network',\n",
       " 'Picture format',\n",
       " 'Preceded by',\n",
       " 'Producer(s)',\n",
       " 'Production company(s)',\n",
       " 'Production location(s)',\n",
       " 'Recorded',\n",
       " 'Release date',\n",
       " 'Running time',\n",
       " 'Starring',\n",
       " 'Suggested by',\n",
       " 'Venue',\n",
       " 'Voices of',\n",
       " 'Writer(s)',\n",
       " 'alt_titles',\n",
       " 'imdb_link',\n",
       " 'title',\n",
       " 'url',\n",
       " 'year']"
      ]
     },
     "metadata": {},
     "execution_count": 210
    }
   ],
   "source": [
    "clean_movies = [clean_movie(movie) for movie in wiki_movies]\n",
    "wiki_movies_df = pd.DataFrame(clean_movies)\n",
    "sorted(wiki_movies_df.columns.tolist())"
   ]
  },
  {
   "cell_type": "code",
   "execution_count": 211,
   "metadata": {},
   "outputs": [],
   "source": [
    "wiki_movies_df['imdb_id'] = wiki_movies_df['imdb_link'].str.extract(r'(tt\\d{7})')"
   ]
  },
  {
   "cell_type": "code",
   "execution_count": 212,
   "metadata": {},
   "outputs": [],
   "source": [
    "wiki_columns_to_keep = [column for column in wiki_movies_df.columns if wiki_movies_df[column].isnull().sum() < len(wiki_movies_df) * 0.9]\n",
    "wiki_movies_df = wiki_movies_df[wiki_columns_to_keep]"
   ]
  },
  {
   "cell_type": "code",
   "execution_count": 213,
   "metadata": {},
   "outputs": [
    {
     "output_type": "execute_result",
     "data": {
      "text/plain": [
       "                                                    url  year  \\\n",
       "0     https://en.wikipedia.org/wiki/The_Adventures_o...  1990   \n",
       "1     https://en.wikipedia.org/wiki/After_Dark,_My_S...  1990   \n",
       "2      https://en.wikipedia.org/wiki/Air_America_(film)  1990   \n",
       "3       https://en.wikipedia.org/wiki/Alice_(1990_film)  1990   \n",
       "4         https://en.wikipedia.org/wiki/Almost_an_Angel  1990   \n",
       "...                                                 ...   ...   \n",
       "7071    https://en.wikipedia.org/wiki/Holmes_%26_Watson  2018   \n",
       "7072     https://en.wikipedia.org/wiki/Vice_(2018_film)  2018   \n",
       "7073  https://en.wikipedia.org/wiki/On_the_Basis_of_Sex  2018   \n",
       "7074  https://en.wikipedia.org/wiki/Destroyer_(2018_...  2018   \n",
       "7075  https://en.wikipedia.org/wiki/Black_Mirror:_Ba...  2018   \n",
       "\n",
       "                                  imdb_link                            title  \\\n",
       "0     https://www.imdb.com/title/tt0098987/  The Adventures of Ford Fairlane   \n",
       "1     https://www.imdb.com/title/tt0098994/             After Dark, My Sweet   \n",
       "2     https://www.imdb.com/title/tt0099005/                      Air America   \n",
       "3     https://www.imdb.com/title/tt0099012/                            Alice   \n",
       "4     https://www.imdb.com/title/tt0099018/                  Almost an Angel   \n",
       "...                                     ...                              ...   \n",
       "7071  https://www.imdb.com/title/tt1255919/                  Holmes & Watson   \n",
       "7072  https://www.imdb.com/title/tt6266538/                             Vice   \n",
       "7073  https://www.imdb.com/title/tt4669788/              On the Basis of Sex   \n",
       "7074  https://www.imdb.com/title/tt7137380/                        Destroyer   \n",
       "7075  https://www.imdb.com/title/tt9495224/                     Bandersnatch   \n",
       "\n",
       "                                               Based on  \\\n",
       "0                           [Characters, by Rex Weiner]   \n",
       "1     [the novel, After Dark, My Sweet, by, Jim Thom...   \n",
       "2                [Air America, by, Christopher Robbins]   \n",
       "3                                                   NaN   \n",
       "4                                                   NaN   \n",
       "...                                                 ...   \n",
       "7071  [Sherlock Holmes, and, Dr. Watson, by, Sir Art...   \n",
       "7072                                                NaN   \n",
       "7073                                                NaN   \n",
       "7074                                                NaN   \n",
       "7075                                                NaN   \n",
       "\n",
       "                                               Starring  \\\n",
       "0     [Andrew Dice Clay, Wayne Newton, Priscilla Pre...   \n",
       "1     [Jason Patric, Rachel Ward, Bruce Dern, George...   \n",
       "2     [Mel Gibson, Robert Downey Jr., Nancy Travis, ...   \n",
       "3     [Alec Baldwin, Blythe Danner, Judy Davis, Mia ...   \n",
       "4           [Paul Hogan, Elias Koteas, Linda Kozlowski]   \n",
       "...                                                 ...   \n",
       "7071  [Will Ferrell, John C. Reilly, Rebecca Hall, R...   \n",
       "7072  [Christian Bale, Amy Adams, Steve Carell, Sam ...   \n",
       "7073  [Felicity Jones, Armie Hammer, Justin Theroux,...   \n",
       "7074  [Nicole Kidman, Sebastian Stan, Toby Kebbell, ...   \n",
       "7075  [Fionn Whitehead, Will Poulter, Craig Parkinso...   \n",
       "\n",
       "                     Cinematography  \\\n",
       "0                       Oliver Wood   \n",
       "1                      Mark Plummer   \n",
       "2                     Roger Deakins   \n",
       "3                    Carlo Di Palma   \n",
       "4                      Russell Boyd   \n",
       "...                             ...   \n",
       "7071                    Oliver Wood   \n",
       "7072                   Greig Fraser   \n",
       "7073                  Michael Grady   \n",
       "7074                 Julie Kirkwood   \n",
       "7075  [Aaron Morton, Jake Polonsky]   \n",
       "\n",
       "                                           Release date  \\\n",
       "0                     [July 11, 1990, (, 1990-07-11, )]   \n",
       "1     [May 17, 1990, (, 1990-05-17, ), (Cannes Film ...   \n",
       "2                   [August 10, 1990, (, 1990-08-10, )]   \n",
       "3                 [December 25, 1990, (, 1990-12-25, )]   \n",
       "4                                     December 19, 1990   \n",
       "...                                                 ...   \n",
       "7071  [December 25, 2018, (, 2018-12-25, ), (United ...   \n",
       "7072  [December 11, 2018, (, 2018-12-11, ), (, Samue...   \n",
       "7073  [November 8, 2018, (, 2018-11-08, ), (, AFI Fe...   \n",
       "7074  [August 31, 2018, (, 2018-08-31, ), (, Telluri...   \n",
       "7075               [28 December 2018, (, 2018-12-28, )]   \n",
       "\n",
       "                               Running time         Country  ...       Budget  \\\n",
       "0                               102 minutes   United States  ...  $20 million   \n",
       "1                               114 minutes   United States  ...   $6 million   \n",
       "2                               113 minutes   United States  ...  $35 million   \n",
       "3                               106 minutes   United States  ...  $12 million   \n",
       "4                                95 minutes              US  ...  $25 million   \n",
       "...                                     ...             ...  ...          ...   \n",
       "7071                             90 minutes   United States  ...  $42 million   \n",
       "7072                            132 minutes   United States  ...  $60 million   \n",
       "7073                            120 minutes   United States  ...  $20 million   \n",
       "7074                            123 minutes   United States  ...   $9 million   \n",
       "7075  Variable; 90 minutes for default path  United Kingdom  ...          NaN   \n",
       "\n",
       "            Box office            Director              Distributor  \\\n",
       "0        $21.4 million        Renny Harlin         20th Century Fox   \n",
       "1         $2.7 million         James Foley          Avenue Pictures   \n",
       "2          $57,718,089  Roger Spottiswoode         TriStar Pictures   \n",
       "3           $7,331,647         Woody Allen           Orion Pictures   \n",
       "4     $6,939,946 (USA)        John Cornell       Paramount Pictures   \n",
       "...                ...                 ...                      ...   \n",
       "7071     $41.9 million          Etan Cohen  Sony Pictures Releasing   \n",
       "7072     $76.1 million          Adam McKay         Mirror Releasing   \n",
       "7073     $38.4 million          Mimi Leder           Focus Features   \n",
       "7074      $5.5 million        Karyn Kusama         Mirror Releasing   \n",
       "7075               NaN         David Slade                  Netflix   \n",
       "\n",
       "                           Editor(s)              Composer(s)  \\\n",
       "0                    Michael Tronick  [Cliff Eidelman, Yello]   \n",
       "1                    Howard E. Smith            Maurice Jarre   \n",
       "2     [John Bloom, Lois Freeman-Fox]            Charles Gross   \n",
       "3                     Susan E. Morse                      NaN   \n",
       "4                       David Stiven            Maurice Jarre   \n",
       "...                              ...                      ...   \n",
       "7071                  Dean Zimmerman        Mark Mothersbaugh   \n",
       "7072                     Hank Corwin         Nicholas Britell   \n",
       "7073                 Michelle Tesoro            Mychael Danna   \n",
       "7074                   Plummy Tucker         Theodore Shapiro   \n",
       "7075                     Tony Kearns           Brian Reitzell   \n",
       "\n",
       "                                            Producer(s)  \\\n",
       "0                            [Steve Perry, Joel Silver]   \n",
       "1                           [Ric Kidney, Robert Redlin]   \n",
       "2                                        Daniel Melnick   \n",
       "3                                       Robert Greenhut   \n",
       "4                                          John Cornell   \n",
       "...                                                 ...   \n",
       "7071  [Will Ferrell, Adam McKay, Jimmy Miller, Clayt...   \n",
       "7072  [Brad Pitt, Dede Gardner, Jeremy Kleiner, Kevi...   \n",
       "7073                                     Robert W. Cort   \n",
       "7074             [Fred Berger, Phil Hay, Matt Manfredi]   \n",
       "7075                                     Russell McLean   \n",
       "\n",
       "                                  Production company(s)  \\\n",
       "0                                       Silver Pictures   \n",
       "1                                       Avenue Pictures   \n",
       "2                 [Carolco Pictures, IndieProd Company]   \n",
       "3                                                   NaN   \n",
       "4                                                   NaN   \n",
       "...                                                 ...   \n",
       "7071  [Columbia Pictures, Gary Sanchez Productions, ...   \n",
       "7072  [Plan B Entertainment, Gary Sanchez Production...   \n",
       "7073  [Focus Features, [1], Participant Media, [1], ...   \n",
       "7074  [30West, Automatik Entertainment, Annapurna Pi...   \n",
       "7075                       [House of Tomorrow, Netflix]   \n",
       "\n",
       "                         Writer(s)    imdb_id  \n",
       "0      [David Arnott, James Cappe]  tt0098987  \n",
       "1     [James Foley, Robert Redlin]  tt0098994  \n",
       "2       [John Eskow, Richard Rush]  tt0099005  \n",
       "3                      Woody Allen  tt0099012  \n",
       "4                       Paul Hogan  tt0099018  \n",
       "...                            ...        ...  \n",
       "7071                    Etan Cohen  tt1255919  \n",
       "7072                    Adam McKay  tt6266538  \n",
       "7073             Daniel Stiepleman  tt4669788  \n",
       "7074     [Phil Hay, Matt Manfredi]  tt7137380  \n",
       "7075               Charlie Brooker  tt9495224  \n",
       "\n",
       "[7076 rows x 21 columns]"
      ],
      "text/html": "<div>\n<style scoped>\n    .dataframe tbody tr th:only-of-type {\n        vertical-align: middle;\n    }\n\n    .dataframe tbody tr th {\n        vertical-align: top;\n    }\n\n    .dataframe thead th {\n        text-align: right;\n    }\n</style>\n<table border=\"1\" class=\"dataframe\">\n  <thead>\n    <tr style=\"text-align: right;\">\n      <th></th>\n      <th>url</th>\n      <th>year</th>\n      <th>imdb_link</th>\n      <th>title</th>\n      <th>Based on</th>\n      <th>Starring</th>\n      <th>Cinematography</th>\n      <th>Release date</th>\n      <th>Running time</th>\n      <th>Country</th>\n      <th>...</th>\n      <th>Budget</th>\n      <th>Box office</th>\n      <th>Director</th>\n      <th>Distributor</th>\n      <th>Editor(s)</th>\n      <th>Composer(s)</th>\n      <th>Producer(s)</th>\n      <th>Production company(s)</th>\n      <th>Writer(s)</th>\n      <th>imdb_id</th>\n    </tr>\n  </thead>\n  <tbody>\n    <tr>\n      <th>0</th>\n      <td>https://en.wikipedia.org/wiki/The_Adventures_o...</td>\n      <td>1990</td>\n      <td>https://www.imdb.com/title/tt0098987/</td>\n      <td>The Adventures of Ford Fairlane</td>\n      <td>[Characters, by Rex Weiner]</td>\n      <td>[Andrew Dice Clay, Wayne Newton, Priscilla Pre...</td>\n      <td>Oliver Wood</td>\n      <td>[July 11, 1990, (, 1990-07-11, )]</td>\n      <td>102 minutes</td>\n      <td>United States</td>\n      <td>...</td>\n      <td>$20 million</td>\n      <td>$21.4 million</td>\n      <td>Renny Harlin</td>\n      <td>20th Century Fox</td>\n      <td>Michael Tronick</td>\n      <td>[Cliff Eidelman, Yello]</td>\n      <td>[Steve Perry, Joel Silver]</td>\n      <td>Silver Pictures</td>\n      <td>[David Arnott, James Cappe]</td>\n      <td>tt0098987</td>\n    </tr>\n    <tr>\n      <th>1</th>\n      <td>https://en.wikipedia.org/wiki/After_Dark,_My_S...</td>\n      <td>1990</td>\n      <td>https://www.imdb.com/title/tt0098994/</td>\n      <td>After Dark, My Sweet</td>\n      <td>[the novel, After Dark, My Sweet, by, Jim Thom...</td>\n      <td>[Jason Patric, Rachel Ward, Bruce Dern, George...</td>\n      <td>Mark Plummer</td>\n      <td>[May 17, 1990, (, 1990-05-17, ), (Cannes Film ...</td>\n      <td>114 minutes</td>\n      <td>United States</td>\n      <td>...</td>\n      <td>$6 million</td>\n      <td>$2.7 million</td>\n      <td>James Foley</td>\n      <td>Avenue Pictures</td>\n      <td>Howard E. Smith</td>\n      <td>Maurice Jarre</td>\n      <td>[Ric Kidney, Robert Redlin]</td>\n      <td>Avenue Pictures</td>\n      <td>[James Foley, Robert Redlin]</td>\n      <td>tt0098994</td>\n    </tr>\n    <tr>\n      <th>2</th>\n      <td>https://en.wikipedia.org/wiki/Air_America_(film)</td>\n      <td>1990</td>\n      <td>https://www.imdb.com/title/tt0099005/</td>\n      <td>Air America</td>\n      <td>[Air America, by, Christopher Robbins]</td>\n      <td>[Mel Gibson, Robert Downey Jr., Nancy Travis, ...</td>\n      <td>Roger Deakins</td>\n      <td>[August 10, 1990, (, 1990-08-10, )]</td>\n      <td>113 minutes</td>\n      <td>United States</td>\n      <td>...</td>\n      <td>$35 million</td>\n      <td>$57,718,089</td>\n      <td>Roger Spottiswoode</td>\n      <td>TriStar Pictures</td>\n      <td>[John Bloom, Lois Freeman-Fox]</td>\n      <td>Charles Gross</td>\n      <td>Daniel Melnick</td>\n      <td>[Carolco Pictures, IndieProd Company]</td>\n      <td>[John Eskow, Richard Rush]</td>\n      <td>tt0099005</td>\n    </tr>\n    <tr>\n      <th>3</th>\n      <td>https://en.wikipedia.org/wiki/Alice_(1990_film)</td>\n      <td>1990</td>\n      <td>https://www.imdb.com/title/tt0099012/</td>\n      <td>Alice</td>\n      <td>NaN</td>\n      <td>[Alec Baldwin, Blythe Danner, Judy Davis, Mia ...</td>\n      <td>Carlo Di Palma</td>\n      <td>[December 25, 1990, (, 1990-12-25, )]</td>\n      <td>106 minutes</td>\n      <td>United States</td>\n      <td>...</td>\n      <td>$12 million</td>\n      <td>$7,331,647</td>\n      <td>Woody Allen</td>\n      <td>Orion Pictures</td>\n      <td>Susan E. Morse</td>\n      <td>NaN</td>\n      <td>Robert Greenhut</td>\n      <td>NaN</td>\n      <td>Woody Allen</td>\n      <td>tt0099012</td>\n    </tr>\n    <tr>\n      <th>4</th>\n      <td>https://en.wikipedia.org/wiki/Almost_an_Angel</td>\n      <td>1990</td>\n      <td>https://www.imdb.com/title/tt0099018/</td>\n      <td>Almost an Angel</td>\n      <td>NaN</td>\n      <td>[Paul Hogan, Elias Koteas, Linda Kozlowski]</td>\n      <td>Russell Boyd</td>\n      <td>December 19, 1990</td>\n      <td>95 minutes</td>\n      <td>US</td>\n      <td>...</td>\n      <td>$25 million</td>\n      <td>$6,939,946 (USA)</td>\n      <td>John Cornell</td>\n      <td>Paramount Pictures</td>\n      <td>David Stiven</td>\n      <td>Maurice Jarre</td>\n      <td>John Cornell</td>\n      <td>NaN</td>\n      <td>Paul Hogan</td>\n      <td>tt0099018</td>\n    </tr>\n    <tr>\n      <th>...</th>\n      <td>...</td>\n      <td>...</td>\n      <td>...</td>\n      <td>...</td>\n      <td>...</td>\n      <td>...</td>\n      <td>...</td>\n      <td>...</td>\n      <td>...</td>\n      <td>...</td>\n      <td>...</td>\n      <td>...</td>\n      <td>...</td>\n      <td>...</td>\n      <td>...</td>\n      <td>...</td>\n      <td>...</td>\n      <td>...</td>\n      <td>...</td>\n      <td>...</td>\n      <td>...</td>\n    </tr>\n    <tr>\n      <th>7071</th>\n      <td>https://en.wikipedia.org/wiki/Holmes_%26_Watson</td>\n      <td>2018</td>\n      <td>https://www.imdb.com/title/tt1255919/</td>\n      <td>Holmes &amp; Watson</td>\n      <td>[Sherlock Holmes, and, Dr. Watson, by, Sir Art...</td>\n      <td>[Will Ferrell, John C. Reilly, Rebecca Hall, R...</td>\n      <td>Oliver Wood</td>\n      <td>[December 25, 2018, (, 2018-12-25, ), (United ...</td>\n      <td>90 minutes</td>\n      <td>United States</td>\n      <td>...</td>\n      <td>$42 million</td>\n      <td>$41.9 million</td>\n      <td>Etan Cohen</td>\n      <td>Sony Pictures Releasing</td>\n      <td>Dean Zimmerman</td>\n      <td>Mark Mothersbaugh</td>\n      <td>[Will Ferrell, Adam McKay, Jimmy Miller, Clayt...</td>\n      <td>[Columbia Pictures, Gary Sanchez Productions, ...</td>\n      <td>Etan Cohen</td>\n      <td>tt1255919</td>\n    </tr>\n    <tr>\n      <th>7072</th>\n      <td>https://en.wikipedia.org/wiki/Vice_(2018_film)</td>\n      <td>2018</td>\n      <td>https://www.imdb.com/title/tt6266538/</td>\n      <td>Vice</td>\n      <td>NaN</td>\n      <td>[Christian Bale, Amy Adams, Steve Carell, Sam ...</td>\n      <td>Greig Fraser</td>\n      <td>[December 11, 2018, (, 2018-12-11, ), (, Samue...</td>\n      <td>132 minutes</td>\n      <td>United States</td>\n      <td>...</td>\n      <td>$60 million</td>\n      <td>$76.1 million</td>\n      <td>Adam McKay</td>\n      <td>Mirror Releasing</td>\n      <td>Hank Corwin</td>\n      <td>Nicholas Britell</td>\n      <td>[Brad Pitt, Dede Gardner, Jeremy Kleiner, Kevi...</td>\n      <td>[Plan B Entertainment, Gary Sanchez Production...</td>\n      <td>Adam McKay</td>\n      <td>tt6266538</td>\n    </tr>\n    <tr>\n      <th>7073</th>\n      <td>https://en.wikipedia.org/wiki/On_the_Basis_of_Sex</td>\n      <td>2018</td>\n      <td>https://www.imdb.com/title/tt4669788/</td>\n      <td>On the Basis of Sex</td>\n      <td>NaN</td>\n      <td>[Felicity Jones, Armie Hammer, Justin Theroux,...</td>\n      <td>Michael Grady</td>\n      <td>[November 8, 2018, (, 2018-11-08, ), (, AFI Fe...</td>\n      <td>120 minutes</td>\n      <td>United States</td>\n      <td>...</td>\n      <td>$20 million</td>\n      <td>$38.4 million</td>\n      <td>Mimi Leder</td>\n      <td>Focus Features</td>\n      <td>Michelle Tesoro</td>\n      <td>Mychael Danna</td>\n      <td>Robert W. Cort</td>\n      <td>[Focus Features, [1], Participant Media, [1], ...</td>\n      <td>Daniel Stiepleman</td>\n      <td>tt4669788</td>\n    </tr>\n    <tr>\n      <th>7074</th>\n      <td>https://en.wikipedia.org/wiki/Destroyer_(2018_...</td>\n      <td>2018</td>\n      <td>https://www.imdb.com/title/tt7137380/</td>\n      <td>Destroyer</td>\n      <td>NaN</td>\n      <td>[Nicole Kidman, Sebastian Stan, Toby Kebbell, ...</td>\n      <td>Julie Kirkwood</td>\n      <td>[August 31, 2018, (, 2018-08-31, ), (, Telluri...</td>\n      <td>123 minutes</td>\n      <td>United States</td>\n      <td>...</td>\n      <td>$9 million</td>\n      <td>$5.5 million</td>\n      <td>Karyn Kusama</td>\n      <td>Mirror Releasing</td>\n      <td>Plummy Tucker</td>\n      <td>Theodore Shapiro</td>\n      <td>[Fred Berger, Phil Hay, Matt Manfredi]</td>\n      <td>[30West, Automatik Entertainment, Annapurna Pi...</td>\n      <td>[Phil Hay, Matt Manfredi]</td>\n      <td>tt7137380</td>\n    </tr>\n    <tr>\n      <th>7075</th>\n      <td>https://en.wikipedia.org/wiki/Black_Mirror:_Ba...</td>\n      <td>2018</td>\n      <td>https://www.imdb.com/title/tt9495224/</td>\n      <td>Bandersnatch</td>\n      <td>NaN</td>\n      <td>[Fionn Whitehead, Will Poulter, Craig Parkinso...</td>\n      <td>[Aaron Morton, Jake Polonsky]</td>\n      <td>[28 December 2018, (, 2018-12-28, )]</td>\n      <td>Variable; 90 minutes for default path</td>\n      <td>United Kingdom</td>\n      <td>...</td>\n      <td>NaN</td>\n      <td>NaN</td>\n      <td>David Slade</td>\n      <td>Netflix</td>\n      <td>Tony Kearns</td>\n      <td>Brian Reitzell</td>\n      <td>Russell McLean</td>\n      <td>[House of Tomorrow, Netflix]</td>\n      <td>Charlie Brooker</td>\n      <td>tt9495224</td>\n    </tr>\n  </tbody>\n</table>\n<p>7076 rows × 21 columns</p>\n</div>"
     },
     "metadata": {},
     "execution_count": 213
    }
   ],
   "source": [
    "wiki_movies_df"
   ]
  },
  {
   "cell_type": "code",
   "execution_count": 214,
   "metadata": {},
   "outputs": [],
   "source": [
    "box_office = wiki_movies_df['Box office'].dropna()"
   ]
  },
  {
   "cell_type": "code",
   "execution_count": 215,
   "metadata": {},
   "outputs": [
    {
     "output_type": "execute_result",
     "data": {
      "text/plain": [
       "34                           [US$, 4,212,828]\n",
       "54      [$6,698,361 (, United States, ), [2]]\n",
       "74                    [$6,488,144, (US), [1]]\n",
       "126                [US$1,531,489, (domestic)]\n",
       "130                          [US$, 4,803,039]\n",
       "                        ...                  \n",
       "6980               [$99.6, million, [4], [5]]\n",
       "6994                   [$365.6, million, [1]]\n",
       "6995                         [$53.8, million]\n",
       "7015                     [$435, million, [7]]\n",
       "7048                   [$529.3, million, [4]]\n",
       "Name: Box office, Length: 136, dtype: object"
      ]
     },
     "metadata": {},
     "execution_count": 215
    }
   ],
   "source": [
    "box_office[box_office.map(lambda x: type(x) != str)]"
   ]
  },
  {
   "cell_type": "code",
   "execution_count": 216,
   "metadata": {},
   "outputs": [],
   "source": [
    "box_office = box_office.apply(lambda x: ' '.join(x) if type(x) == list else x)"
   ]
  },
  {
   "cell_type": "code",
   "execution_count": 217,
   "metadata": {},
   "outputs": [],
   "source": [
    "form_one = r'\\$\\s*\\d+\\.?\\d*\\s*[mb]illi?on'"
   ]
  },
  {
   "cell_type": "code",
   "execution_count": 218,
   "metadata": {},
   "outputs": [
    {
     "output_type": "execute_result",
     "data": {
      "text/plain": [
       "1574"
      ]
     },
     "metadata": {},
     "execution_count": 218
    }
   ],
   "source": [
    "form_two = r'\\$\\s*\\d{1,3}(?:[,\\.]\\d{3})+(?!\\s[mb]illion)'\n",
    "box_office.str.contains(form_two, flags=re.IGNORECASE).sum()"
   ]
  },
  {
   "cell_type": "code",
   "execution_count": 219,
   "metadata": {},
   "outputs": [],
   "source": [
    "matches_form_one = box_office.str.contains(form_one, flags=re.IGNORECASE)\n",
    "matches_form_two = box_office.str.contains(form_two, flags=re.IGNORECASE)"
   ]
  },
  {
   "cell_type": "code",
   "execution_count": 220,
   "metadata": {},
   "outputs": [
    {
     "output_type": "execute_result",
     "data": {
      "text/plain": [
       "110              $4.35-4.37 million\n",
       "600                      $5000 (US)\n",
       "1070                     35,254,617\n",
       "1480                     £3 million\n",
       "1865                   ¥1.1 billion\n",
       "2032                            N/A\n",
       "2091                           $309\n",
       "2665    926,423 admissions (France)\n",
       "3088      $32 [2] –33.1 million [1]\n",
       "3631                            TBA\n",
       "3859             $38.9–40.3 million\n",
       "3879       CN¥3.650 million (China)\n",
       "4116                     £7,385,434\n",
       "4261             $20.7–23.9 million\n",
       "4306                         $20-30\n",
       "4561        $45.2k (only in Turkey)\n",
       "5447                          £2.56\n",
       "5784                       413 733$\n",
       "6013                        Unknown\n",
       "6145             $17.5–18.4 million\n",
       "6234             $41.8–41.9 million\n",
       "6369                          $111k\n",
       "6370                           $588\n",
       "6593                 less than $372\n",
       "6843                        8 crore\n",
       "Name: Box office, dtype: object"
      ]
     },
     "metadata": {},
     "execution_count": 220
    }
   ],
   "source": [
    "box_office[~matches_form_one & ~matches_form_two]"
   ]
  },
  {
   "cell_type": "code",
   "execution_count": 221,
   "metadata": {},
   "outputs": [],
   "source": [
    "def parse_dollars(s):\n",
    "    # if s is not a string, return NaN\n",
    "    if type(s) != str:\n",
    "        return np.nan\n",
    "\n",
    "    # if input is of the form $###.# million\n",
    "    if re.match(r'\\$\\s*\\d+\\.?\\d*\\s*milli?on', s, flags=re.IGNORECASE):\n",
    "\n",
    "        # remove dollar sign and \" million\"\n",
    "        s = re.sub('\\$|\\s|[a-zA-Z]','', s)\n",
    "\n",
    "        # convert to float and multiply by a million\n",
    "        value = float(s) * 10**6\n",
    "\n",
    "        # return value\n",
    "        return value\n",
    "\n",
    "    # if input is of the form $###.# billion\n",
    "    elif re.match(r'\\$\\s*\\d+\\.?\\d*\\s*billi?on', s, flags=re.IGNORECASE):\n",
    "\n",
    "        # remove dollar sign and \" billion\"\n",
    "        s = re.sub('\\$|\\s|[a-zA-Z]','', s)\n",
    "\n",
    "        # convert to float and multiply by a billion\n",
    "        value = float(s) * 10**9\n",
    "\n",
    "        # return value\n",
    "        return value\n",
    "\n",
    "    # if input is of the form $###,###,###\n",
    "    elif re.match(r'\\$\\s*\\d{1,3}(?:[,\\.]\\d{3})+(?!\\s[mb]illion)', s, flags=re.IGNORECASE):\n",
    "\n",
    "        # remove dollar sign and commas\n",
    "        s = re.sub('\\$|,','', s)\n",
    "\n",
    "        # convert to float\n",
    "        value = float(s)\n",
    "\n",
    "        # return value\n",
    "        return value\n",
    "\n",
    "    # otherwise, return NaN\n",
    "    else:\n",
    "        return np.nan"
   ]
  },
  {
   "cell_type": "code",
   "execution_count": 222,
   "metadata": {},
   "outputs": [
    {
     "output_type": "execute_result",
     "data": {
      "text/plain": [
       "0       21400000.0\n",
       "1        2700000.0\n",
       "2       57718089.0\n",
       "3        7331647.0\n",
       "4        6939946.0\n",
       "           ...    \n",
       "7071    41900000.0\n",
       "7072    76100000.0\n",
       "7073    38400000.0\n",
       "7074     5500000.0\n",
       "7075           NaN\n",
       "Name: box_office, Length: 7076, dtype: float64"
      ]
     },
     "metadata": {},
     "execution_count": 222
    }
   ],
   "source": [
    "wiki_movies_df['box_office'] = box_office.str.extract(f'({form_one}|{form_two})', flags=re.IGNORECASE)[0].apply(parse_dollars)\n",
    "wiki_movies_df['box_office']"
   ]
  },
  {
   "cell_type": "code",
   "execution_count": 223,
   "metadata": {},
   "outputs": [],
   "source": [
    "wiki_movies_df.drop('Box office', axis=1, inplace=True)"
   ]
  },
  {
   "cell_type": "code",
   "execution_count": 224,
   "metadata": {},
   "outputs": [
    {
     "output_type": "execute_result",
     "data": {
      "text/plain": [
       "                                                    url  year  \\\n",
       "0     https://en.wikipedia.org/wiki/The_Adventures_o...  1990   \n",
       "1     https://en.wikipedia.org/wiki/After_Dark,_My_S...  1990   \n",
       "2      https://en.wikipedia.org/wiki/Air_America_(film)  1990   \n",
       "3       https://en.wikipedia.org/wiki/Alice_(1990_film)  1990   \n",
       "4         https://en.wikipedia.org/wiki/Almost_an_Angel  1990   \n",
       "...                                                 ...   ...   \n",
       "7071    https://en.wikipedia.org/wiki/Holmes_%26_Watson  2018   \n",
       "7072     https://en.wikipedia.org/wiki/Vice_(2018_film)  2018   \n",
       "7073  https://en.wikipedia.org/wiki/On_the_Basis_of_Sex  2018   \n",
       "7074  https://en.wikipedia.org/wiki/Destroyer_(2018_...  2018   \n",
       "7075  https://en.wikipedia.org/wiki/Black_Mirror:_Ba...  2018   \n",
       "\n",
       "                                  imdb_link                            title  \\\n",
       "0     https://www.imdb.com/title/tt0098987/  The Adventures of Ford Fairlane   \n",
       "1     https://www.imdb.com/title/tt0098994/             After Dark, My Sweet   \n",
       "2     https://www.imdb.com/title/tt0099005/                      Air America   \n",
       "3     https://www.imdb.com/title/tt0099012/                            Alice   \n",
       "4     https://www.imdb.com/title/tt0099018/                  Almost an Angel   \n",
       "...                                     ...                              ...   \n",
       "7071  https://www.imdb.com/title/tt1255919/                  Holmes & Watson   \n",
       "7072  https://www.imdb.com/title/tt6266538/                             Vice   \n",
       "7073  https://www.imdb.com/title/tt4669788/              On the Basis of Sex   \n",
       "7074  https://www.imdb.com/title/tt7137380/                        Destroyer   \n",
       "7075  https://www.imdb.com/title/tt9495224/                     Bandersnatch   \n",
       "\n",
       "                                               Based on  \\\n",
       "0                           [Characters, by Rex Weiner]   \n",
       "1     [the novel, After Dark, My Sweet, by, Jim Thom...   \n",
       "2                [Air America, by, Christopher Robbins]   \n",
       "3                                                   NaN   \n",
       "4                                                   NaN   \n",
       "...                                                 ...   \n",
       "7071  [Sherlock Holmes, and, Dr. Watson, by, Sir Art...   \n",
       "7072                                                NaN   \n",
       "7073                                                NaN   \n",
       "7074                                                NaN   \n",
       "7075                                                NaN   \n",
       "\n",
       "                                               Starring  \\\n",
       "0     [Andrew Dice Clay, Wayne Newton, Priscilla Pre...   \n",
       "1     [Jason Patric, Rachel Ward, Bruce Dern, George...   \n",
       "2     [Mel Gibson, Robert Downey Jr., Nancy Travis, ...   \n",
       "3     [Alec Baldwin, Blythe Danner, Judy Davis, Mia ...   \n",
       "4           [Paul Hogan, Elias Koteas, Linda Kozlowski]   \n",
       "...                                                 ...   \n",
       "7071  [Will Ferrell, John C. Reilly, Rebecca Hall, R...   \n",
       "7072  [Christian Bale, Amy Adams, Steve Carell, Sam ...   \n",
       "7073  [Felicity Jones, Armie Hammer, Justin Theroux,...   \n",
       "7074  [Nicole Kidman, Sebastian Stan, Toby Kebbell, ...   \n",
       "7075  [Fionn Whitehead, Will Poulter, Craig Parkinso...   \n",
       "\n",
       "                     Cinematography  \\\n",
       "0                       Oliver Wood   \n",
       "1                      Mark Plummer   \n",
       "2                     Roger Deakins   \n",
       "3                    Carlo Di Palma   \n",
       "4                      Russell Boyd   \n",
       "...                             ...   \n",
       "7071                    Oliver Wood   \n",
       "7072                   Greig Fraser   \n",
       "7073                  Michael Grady   \n",
       "7074                 Julie Kirkwood   \n",
       "7075  [Aaron Morton, Jake Polonsky]   \n",
       "\n",
       "                                           Release date  \\\n",
       "0                     [July 11, 1990, (, 1990-07-11, )]   \n",
       "1     [May 17, 1990, (, 1990-05-17, ), (Cannes Film ...   \n",
       "2                   [August 10, 1990, (, 1990-08-10, )]   \n",
       "3                 [December 25, 1990, (, 1990-12-25, )]   \n",
       "4                                     December 19, 1990   \n",
       "...                                                 ...   \n",
       "7071  [December 25, 2018, (, 2018-12-25, ), (United ...   \n",
       "7072  [December 11, 2018, (, 2018-12-11, ), (, Samue...   \n",
       "7073  [November 8, 2018, (, 2018-11-08, ), (, AFI Fe...   \n",
       "7074  [August 31, 2018, (, 2018-08-31, ), (, Telluri...   \n",
       "7075               [28 December 2018, (, 2018-12-28, )]   \n",
       "\n",
       "                               Running time         Country  ...       Budget  \\\n",
       "0                               102 minutes   United States  ...  $20 million   \n",
       "1                               114 minutes   United States  ...   $6 million   \n",
       "2                               113 minutes   United States  ...  $35 million   \n",
       "3                               106 minutes   United States  ...  $12 million   \n",
       "4                                95 minutes              US  ...  $25 million   \n",
       "...                                     ...             ...  ...          ...   \n",
       "7071                             90 minutes   United States  ...  $42 million   \n",
       "7072                            132 minutes   United States  ...  $60 million   \n",
       "7073                            120 minutes   United States  ...  $20 million   \n",
       "7074                            123 minutes   United States  ...   $9 million   \n",
       "7075  Variable; 90 minutes for default path  United Kingdom  ...          NaN   \n",
       "\n",
       "                Director              Distributor  \\\n",
       "0           Renny Harlin         20th Century Fox   \n",
       "1            James Foley          Avenue Pictures   \n",
       "2     Roger Spottiswoode         TriStar Pictures   \n",
       "3            Woody Allen           Orion Pictures   \n",
       "4           John Cornell       Paramount Pictures   \n",
       "...                  ...                      ...   \n",
       "7071          Etan Cohen  Sony Pictures Releasing   \n",
       "7072          Adam McKay         Mirror Releasing   \n",
       "7073          Mimi Leder           Focus Features   \n",
       "7074        Karyn Kusama         Mirror Releasing   \n",
       "7075         David Slade                  Netflix   \n",
       "\n",
       "                           Editor(s)              Composer(s)  \\\n",
       "0                    Michael Tronick  [Cliff Eidelman, Yello]   \n",
       "1                    Howard E. Smith            Maurice Jarre   \n",
       "2     [John Bloom, Lois Freeman-Fox]            Charles Gross   \n",
       "3                     Susan E. Morse                      NaN   \n",
       "4                       David Stiven            Maurice Jarre   \n",
       "...                              ...                      ...   \n",
       "7071                  Dean Zimmerman        Mark Mothersbaugh   \n",
       "7072                     Hank Corwin         Nicholas Britell   \n",
       "7073                 Michelle Tesoro            Mychael Danna   \n",
       "7074                   Plummy Tucker         Theodore Shapiro   \n",
       "7075                     Tony Kearns           Brian Reitzell   \n",
       "\n",
       "                                            Producer(s)  \\\n",
       "0                            [Steve Perry, Joel Silver]   \n",
       "1                           [Ric Kidney, Robert Redlin]   \n",
       "2                                        Daniel Melnick   \n",
       "3                                       Robert Greenhut   \n",
       "4                                          John Cornell   \n",
       "...                                                 ...   \n",
       "7071  [Will Ferrell, Adam McKay, Jimmy Miller, Clayt...   \n",
       "7072  [Brad Pitt, Dede Gardner, Jeremy Kleiner, Kevi...   \n",
       "7073                                     Robert W. Cort   \n",
       "7074             [Fred Berger, Phil Hay, Matt Manfredi]   \n",
       "7075                                     Russell McLean   \n",
       "\n",
       "                                  Production company(s)  \\\n",
       "0                                       Silver Pictures   \n",
       "1                                       Avenue Pictures   \n",
       "2                 [Carolco Pictures, IndieProd Company]   \n",
       "3                                                   NaN   \n",
       "4                                                   NaN   \n",
       "...                                                 ...   \n",
       "7071  [Columbia Pictures, Gary Sanchez Productions, ...   \n",
       "7072  [Plan B Entertainment, Gary Sanchez Production...   \n",
       "7073  [Focus Features, [1], Participant Media, [1], ...   \n",
       "7074  [30West, Automatik Entertainment, Annapurna Pi...   \n",
       "7075                       [House of Tomorrow, Netflix]   \n",
       "\n",
       "                         Writer(s)    imdb_id  box_office  \n",
       "0      [David Arnott, James Cappe]  tt0098987  21400000.0  \n",
       "1     [James Foley, Robert Redlin]  tt0098994   2700000.0  \n",
       "2       [John Eskow, Richard Rush]  tt0099005  57718089.0  \n",
       "3                      Woody Allen  tt0099012   7331647.0  \n",
       "4                       Paul Hogan  tt0099018   6939946.0  \n",
       "...                            ...        ...         ...  \n",
       "7071                    Etan Cohen  tt1255919  41900000.0  \n",
       "7072                    Adam McKay  tt6266538  76100000.0  \n",
       "7073             Daniel Stiepleman  tt4669788  38400000.0  \n",
       "7074     [Phil Hay, Matt Manfredi]  tt7137380   5500000.0  \n",
       "7075               Charlie Brooker  tt9495224         NaN  \n",
       "\n",
       "[7076 rows x 21 columns]"
      ],
      "text/html": "<div>\n<style scoped>\n    .dataframe tbody tr th:only-of-type {\n        vertical-align: middle;\n    }\n\n    .dataframe tbody tr th {\n        vertical-align: top;\n    }\n\n    .dataframe thead th {\n        text-align: right;\n    }\n</style>\n<table border=\"1\" class=\"dataframe\">\n  <thead>\n    <tr style=\"text-align: right;\">\n      <th></th>\n      <th>url</th>\n      <th>year</th>\n      <th>imdb_link</th>\n      <th>title</th>\n      <th>Based on</th>\n      <th>Starring</th>\n      <th>Cinematography</th>\n      <th>Release date</th>\n      <th>Running time</th>\n      <th>Country</th>\n      <th>...</th>\n      <th>Budget</th>\n      <th>Director</th>\n      <th>Distributor</th>\n      <th>Editor(s)</th>\n      <th>Composer(s)</th>\n      <th>Producer(s)</th>\n      <th>Production company(s)</th>\n      <th>Writer(s)</th>\n      <th>imdb_id</th>\n      <th>box_office</th>\n    </tr>\n  </thead>\n  <tbody>\n    <tr>\n      <th>0</th>\n      <td>https://en.wikipedia.org/wiki/The_Adventures_o...</td>\n      <td>1990</td>\n      <td>https://www.imdb.com/title/tt0098987/</td>\n      <td>The Adventures of Ford Fairlane</td>\n      <td>[Characters, by Rex Weiner]</td>\n      <td>[Andrew Dice Clay, Wayne Newton, Priscilla Pre...</td>\n      <td>Oliver Wood</td>\n      <td>[July 11, 1990, (, 1990-07-11, )]</td>\n      <td>102 minutes</td>\n      <td>United States</td>\n      <td>...</td>\n      <td>$20 million</td>\n      <td>Renny Harlin</td>\n      <td>20th Century Fox</td>\n      <td>Michael Tronick</td>\n      <td>[Cliff Eidelman, Yello]</td>\n      <td>[Steve Perry, Joel Silver]</td>\n      <td>Silver Pictures</td>\n      <td>[David Arnott, James Cappe]</td>\n      <td>tt0098987</td>\n      <td>21400000.0</td>\n    </tr>\n    <tr>\n      <th>1</th>\n      <td>https://en.wikipedia.org/wiki/After_Dark,_My_S...</td>\n      <td>1990</td>\n      <td>https://www.imdb.com/title/tt0098994/</td>\n      <td>After Dark, My Sweet</td>\n      <td>[the novel, After Dark, My Sweet, by, Jim Thom...</td>\n      <td>[Jason Patric, Rachel Ward, Bruce Dern, George...</td>\n      <td>Mark Plummer</td>\n      <td>[May 17, 1990, (, 1990-05-17, ), (Cannes Film ...</td>\n      <td>114 minutes</td>\n      <td>United States</td>\n      <td>...</td>\n      <td>$6 million</td>\n      <td>James Foley</td>\n      <td>Avenue Pictures</td>\n      <td>Howard E. Smith</td>\n      <td>Maurice Jarre</td>\n      <td>[Ric Kidney, Robert Redlin]</td>\n      <td>Avenue Pictures</td>\n      <td>[James Foley, Robert Redlin]</td>\n      <td>tt0098994</td>\n      <td>2700000.0</td>\n    </tr>\n    <tr>\n      <th>2</th>\n      <td>https://en.wikipedia.org/wiki/Air_America_(film)</td>\n      <td>1990</td>\n      <td>https://www.imdb.com/title/tt0099005/</td>\n      <td>Air America</td>\n      <td>[Air America, by, Christopher Robbins]</td>\n      <td>[Mel Gibson, Robert Downey Jr., Nancy Travis, ...</td>\n      <td>Roger Deakins</td>\n      <td>[August 10, 1990, (, 1990-08-10, )]</td>\n      <td>113 minutes</td>\n      <td>United States</td>\n      <td>...</td>\n      <td>$35 million</td>\n      <td>Roger Spottiswoode</td>\n      <td>TriStar Pictures</td>\n      <td>[John Bloom, Lois Freeman-Fox]</td>\n      <td>Charles Gross</td>\n      <td>Daniel Melnick</td>\n      <td>[Carolco Pictures, IndieProd Company]</td>\n      <td>[John Eskow, Richard Rush]</td>\n      <td>tt0099005</td>\n      <td>57718089.0</td>\n    </tr>\n    <tr>\n      <th>3</th>\n      <td>https://en.wikipedia.org/wiki/Alice_(1990_film)</td>\n      <td>1990</td>\n      <td>https://www.imdb.com/title/tt0099012/</td>\n      <td>Alice</td>\n      <td>NaN</td>\n      <td>[Alec Baldwin, Blythe Danner, Judy Davis, Mia ...</td>\n      <td>Carlo Di Palma</td>\n      <td>[December 25, 1990, (, 1990-12-25, )]</td>\n      <td>106 minutes</td>\n      <td>United States</td>\n      <td>...</td>\n      <td>$12 million</td>\n      <td>Woody Allen</td>\n      <td>Orion Pictures</td>\n      <td>Susan E. Morse</td>\n      <td>NaN</td>\n      <td>Robert Greenhut</td>\n      <td>NaN</td>\n      <td>Woody Allen</td>\n      <td>tt0099012</td>\n      <td>7331647.0</td>\n    </tr>\n    <tr>\n      <th>4</th>\n      <td>https://en.wikipedia.org/wiki/Almost_an_Angel</td>\n      <td>1990</td>\n      <td>https://www.imdb.com/title/tt0099018/</td>\n      <td>Almost an Angel</td>\n      <td>NaN</td>\n      <td>[Paul Hogan, Elias Koteas, Linda Kozlowski]</td>\n      <td>Russell Boyd</td>\n      <td>December 19, 1990</td>\n      <td>95 minutes</td>\n      <td>US</td>\n      <td>...</td>\n      <td>$25 million</td>\n      <td>John Cornell</td>\n      <td>Paramount Pictures</td>\n      <td>David Stiven</td>\n      <td>Maurice Jarre</td>\n      <td>John Cornell</td>\n      <td>NaN</td>\n      <td>Paul Hogan</td>\n      <td>tt0099018</td>\n      <td>6939946.0</td>\n    </tr>\n    <tr>\n      <th>...</th>\n      <td>...</td>\n      <td>...</td>\n      <td>...</td>\n      <td>...</td>\n      <td>...</td>\n      <td>...</td>\n      <td>...</td>\n      <td>...</td>\n      <td>...</td>\n      <td>...</td>\n      <td>...</td>\n      <td>...</td>\n      <td>...</td>\n      <td>...</td>\n      <td>...</td>\n      <td>...</td>\n      <td>...</td>\n      <td>...</td>\n      <td>...</td>\n      <td>...</td>\n      <td>...</td>\n    </tr>\n    <tr>\n      <th>7071</th>\n      <td>https://en.wikipedia.org/wiki/Holmes_%26_Watson</td>\n      <td>2018</td>\n      <td>https://www.imdb.com/title/tt1255919/</td>\n      <td>Holmes &amp; Watson</td>\n      <td>[Sherlock Holmes, and, Dr. Watson, by, Sir Art...</td>\n      <td>[Will Ferrell, John C. Reilly, Rebecca Hall, R...</td>\n      <td>Oliver Wood</td>\n      <td>[December 25, 2018, (, 2018-12-25, ), (United ...</td>\n      <td>90 minutes</td>\n      <td>United States</td>\n      <td>...</td>\n      <td>$42 million</td>\n      <td>Etan Cohen</td>\n      <td>Sony Pictures Releasing</td>\n      <td>Dean Zimmerman</td>\n      <td>Mark Mothersbaugh</td>\n      <td>[Will Ferrell, Adam McKay, Jimmy Miller, Clayt...</td>\n      <td>[Columbia Pictures, Gary Sanchez Productions, ...</td>\n      <td>Etan Cohen</td>\n      <td>tt1255919</td>\n      <td>41900000.0</td>\n    </tr>\n    <tr>\n      <th>7072</th>\n      <td>https://en.wikipedia.org/wiki/Vice_(2018_film)</td>\n      <td>2018</td>\n      <td>https://www.imdb.com/title/tt6266538/</td>\n      <td>Vice</td>\n      <td>NaN</td>\n      <td>[Christian Bale, Amy Adams, Steve Carell, Sam ...</td>\n      <td>Greig Fraser</td>\n      <td>[December 11, 2018, (, 2018-12-11, ), (, Samue...</td>\n      <td>132 minutes</td>\n      <td>United States</td>\n      <td>...</td>\n      <td>$60 million</td>\n      <td>Adam McKay</td>\n      <td>Mirror Releasing</td>\n      <td>Hank Corwin</td>\n      <td>Nicholas Britell</td>\n      <td>[Brad Pitt, Dede Gardner, Jeremy Kleiner, Kevi...</td>\n      <td>[Plan B Entertainment, Gary Sanchez Production...</td>\n      <td>Adam McKay</td>\n      <td>tt6266538</td>\n      <td>76100000.0</td>\n    </tr>\n    <tr>\n      <th>7073</th>\n      <td>https://en.wikipedia.org/wiki/On_the_Basis_of_Sex</td>\n      <td>2018</td>\n      <td>https://www.imdb.com/title/tt4669788/</td>\n      <td>On the Basis of Sex</td>\n      <td>NaN</td>\n      <td>[Felicity Jones, Armie Hammer, Justin Theroux,...</td>\n      <td>Michael Grady</td>\n      <td>[November 8, 2018, (, 2018-11-08, ), (, AFI Fe...</td>\n      <td>120 minutes</td>\n      <td>United States</td>\n      <td>...</td>\n      <td>$20 million</td>\n      <td>Mimi Leder</td>\n      <td>Focus Features</td>\n      <td>Michelle Tesoro</td>\n      <td>Mychael Danna</td>\n      <td>Robert W. Cort</td>\n      <td>[Focus Features, [1], Participant Media, [1], ...</td>\n      <td>Daniel Stiepleman</td>\n      <td>tt4669788</td>\n      <td>38400000.0</td>\n    </tr>\n    <tr>\n      <th>7074</th>\n      <td>https://en.wikipedia.org/wiki/Destroyer_(2018_...</td>\n      <td>2018</td>\n      <td>https://www.imdb.com/title/tt7137380/</td>\n      <td>Destroyer</td>\n      <td>NaN</td>\n      <td>[Nicole Kidman, Sebastian Stan, Toby Kebbell, ...</td>\n      <td>Julie Kirkwood</td>\n      <td>[August 31, 2018, (, 2018-08-31, ), (, Telluri...</td>\n      <td>123 minutes</td>\n      <td>United States</td>\n      <td>...</td>\n      <td>$9 million</td>\n      <td>Karyn Kusama</td>\n      <td>Mirror Releasing</td>\n      <td>Plummy Tucker</td>\n      <td>Theodore Shapiro</td>\n      <td>[Fred Berger, Phil Hay, Matt Manfredi]</td>\n      <td>[30West, Automatik Entertainment, Annapurna Pi...</td>\n      <td>[Phil Hay, Matt Manfredi]</td>\n      <td>tt7137380</td>\n      <td>5500000.0</td>\n    </tr>\n    <tr>\n      <th>7075</th>\n      <td>https://en.wikipedia.org/wiki/Black_Mirror:_Ba...</td>\n      <td>2018</td>\n      <td>https://www.imdb.com/title/tt9495224/</td>\n      <td>Bandersnatch</td>\n      <td>NaN</td>\n      <td>[Fionn Whitehead, Will Poulter, Craig Parkinso...</td>\n      <td>[Aaron Morton, Jake Polonsky]</td>\n      <td>[28 December 2018, (, 2018-12-28, )]</td>\n      <td>Variable; 90 minutes for default path</td>\n      <td>United Kingdom</td>\n      <td>...</td>\n      <td>NaN</td>\n      <td>David Slade</td>\n      <td>Netflix</td>\n      <td>Tony Kearns</td>\n      <td>Brian Reitzell</td>\n      <td>Russell McLean</td>\n      <td>[House of Tomorrow, Netflix]</td>\n      <td>Charlie Brooker</td>\n      <td>tt9495224</td>\n      <td>NaN</td>\n    </tr>\n  </tbody>\n</table>\n<p>7076 rows × 21 columns</p>\n</div>"
     },
     "metadata": {},
     "execution_count": 224
    }
   ],
   "source": [
    "wiki_movies_df"
   ]
  },
  {
   "cell_type": "code",
   "execution_count": 225,
   "metadata": {},
   "outputs": [],
   "source": [
    "budget = wiki_movies_df['Budget'].dropna()"
   ]
  },
  {
   "cell_type": "code",
   "execution_count": 226,
   "metadata": {},
   "outputs": [],
   "source": [
    "budget = budget.map(lambda x: ' '.join(x) if type(x) == list else x)"
   ]
  },
  {
   "cell_type": "code",
   "execution_count": 227,
   "metadata": {},
   "outputs": [],
   "source": [
    "budget = budget.str.replace(r'\\$.*[-—–](?![a-z])', '$', regex = True)"
   ]
  },
  {
   "cell_type": "code",
   "execution_count": 228,
   "metadata": {},
   "outputs": [
    {
     "output_type": "execute_result",
     "data": {
      "text/plain": [
       "0        $20 million\n",
       "1         $6 million\n",
       "2        $35 million\n",
       "3        $12 million\n",
       "4        $25 million\n",
       "            ...     \n",
       "7070    €4.3 million\n",
       "7071     $42 million\n",
       "7072     $60 million\n",
       "7073     $20 million\n",
       "7074      $9 million\n",
       "Name: Budget, Length: 4764, dtype: object"
      ]
     },
     "metadata": {},
     "execution_count": 228
    }
   ],
   "source": [
    "budget"
   ]
  },
  {
   "cell_type": "code",
   "execution_count": 229,
   "metadata": {},
   "outputs": [
    {
     "output_type": "execute_result",
     "data": {
      "text/plain": [
       "136                         Unknown\n",
       "204     60 million Norwegian Kroner\n",
       "478                         Unknown\n",
       "620     60 million Norwegian Kroner\n",
       "973             $34 [3] [4] million\n",
       "1126               $120 [4] million\n",
       "1226                        Unknown\n",
       "1278                            HBO\n",
       "1374                     £6,000,000\n",
       "1397                     13 million\n",
       "1480                   £2.8 million\n",
       "1734                   CAD2,000,000\n",
       "1913     PHP 85 million (estimated)\n",
       "1948                    102,888,900\n",
       "1953                   3,500,000 DM\n",
       "1973                     ₤2,300,874\n",
       "2281                     $14 milion\n",
       "2451                     ₤6,350,000\n",
       "3144                   € 40 million\n",
       "3360               $150 [6] million\n",
       "3418                        $218.32\n",
       "3802                   £4.2 million\n",
       "3906                            N/A\n",
       "3959                    760,000 USD\n",
       "4470                       19 crore\n",
       "4641                    £17 million\n",
       "5034              $$200 [4] million\n",
       "5055           $155 [2] [3] million\n",
       "5419                $40 [4] million\n",
       "5424                            N/A\n",
       "5447                     £4 million\n",
       "5671                    €14 million\n",
       "5687                   $ dead link]\n",
       "6385               £ 12 million [3]\n",
       "6593                     £3 million\n",
       "6821                  £12.9 million\n",
       "6843                      3.5 crore\n",
       "6895                        919,000\n",
       "7070                   €4.3 million\n",
       "Name: Budget, dtype: object"
      ]
     },
     "metadata": {},
     "execution_count": 229
    }
   ],
   "source": [
    "matches_form_one = budget.str.contains(form_one, flags=re.IGNORECASE)\n",
    "matches_form_two = budget.str.contains(form_two, flags=re.IGNORECASE)\n",
    "budget[~matches_form_one & ~matches_form_two]"
   ]
  },
  {
   "cell_type": "code",
   "execution_count": 230,
   "metadata": {},
   "outputs": [
    {
     "output_type": "execute_result",
     "data": {
      "text/plain": [
       "136                         Unknown\n",
       "204     60 million Norwegian Kroner\n",
       "478                         Unknown\n",
       "620     60 million Norwegian Kroner\n",
       "973                     $34 million\n",
       "1126                   $120 million\n",
       "1226                        Unknown\n",
       "1278                            HBO\n",
       "1374                     £6,000,000\n",
       "1397                     13 million\n",
       "1480                   £2.8 million\n",
       "1734                   CAD2,000,000\n",
       "1913     PHP 85 million (estimated)\n",
       "1948                    102,888,900\n",
       "1953                   3,500,000 DM\n",
       "1973                     ₤2,300,874\n",
       "2281                     $14 milion\n",
       "2451                     ₤6,350,000\n",
       "3144                   € 40 million\n",
       "3360                   $150 million\n",
       "3418                        $218.32\n",
       "3802                   £4.2 million\n",
       "3906                            N/A\n",
       "3959                    760,000 USD\n",
       "4470                       19 crore\n",
       "4641                    £17 million\n",
       "5034                  $$200 million\n",
       "5055                   $155 million\n",
       "5419                    $40 million\n",
       "5424                            N/A\n",
       "5447                     £4 million\n",
       "5671                    €14 million\n",
       "5687                   $ dead link]\n",
       "6385                  £ 12 million \n",
       "6593                     £3 million\n",
       "6821                  £12.9 million\n",
       "6843                      3.5 crore\n",
       "6895                        919,000\n",
       "7070                   €4.3 million\n",
       "Name: Budget, dtype: object"
      ]
     },
     "metadata": {},
     "execution_count": 230
    }
   ],
   "source": [
    "budget = budget.str.replace(r'\\[\\d+\\]\\s*', '')\n",
    "budget[~matches_form_one & ~matches_form_two]"
   ]
  },
  {
   "cell_type": "code",
   "execution_count": 231,
   "metadata": {},
   "outputs": [],
   "source": [
    "wiki_movies_df['budget'] = budget.str.extract(f'({form_one}|{form_two})', flags = re.IGNORECASE)[0].apply(parse_dollars)"
   ]
  },
  {
   "cell_type": "code",
   "execution_count": 232,
   "metadata": {},
   "outputs": [],
   "source": [
    "wiki_movies_df.drop('Budget', axis=1, inplace=True)"
   ]
  },
  {
   "cell_type": "code",
   "execution_count": 233,
   "metadata": {},
   "outputs": [],
   "source": [
    "release_date = wiki_movies_df['Release date'].dropna().apply(lambda x: ' '.join(x) if type(x) == list else x)"
   ]
  },
  {
   "cell_type": "code",
   "execution_count": 234,
   "metadata": {},
   "outputs": [
    {
     "output_type": "execute_result",
     "data": {
      "text/plain": [
       "0                            July 11, 1990 ( 1990-07-11 )\n",
       "1       May 17, 1990 ( 1990-05-17 ) (Cannes Film Marke...\n",
       "2                          August 10, 1990 ( 1990-08-10 )\n",
       "3                        December 25, 1990 ( 1990-12-25 )\n",
       "4                                       December 19, 1990\n",
       "                              ...                        \n",
       "7071     December 25, 2018 ( 2018-12-25 ) (United States)\n",
       "7072    December 11, 2018 ( 2018-12-11 ) ( Samuel Gold...\n",
       "7073    November 8, 2018 ( 2018-11-08 ) ( AFI Fest ) D...\n",
       "7074    August 31, 2018 ( 2018-08-31 ) ( Telluride ) D...\n",
       "7075                      28 December 2018 ( 2018-12-28 )\n",
       "Name: Release date, Length: 7044, dtype: object"
      ]
     },
     "metadata": {},
     "execution_count": 234
    }
   ],
   "source": [
    "release_date"
   ]
  },
  {
   "cell_type": "code",
   "execution_count": 235,
   "metadata": {},
   "outputs": [],
   "source": [
    "date_form_one = r'(?:January|February|March|April|May|June|July|August|September|October|November|December)\\s\\d{1,2},\\s\\d{4}'\n",
    "date_form_two = r'\\d{4}.\\d{2}.\\d{2}'\n",
    "date_form_three = r'(?:January|February|March|April|May|June|July|August|September|October|November|December)\\s\\d{4}'\n",
    "date_form_four = r'\\d{4}'"
   ]
  },
  {
   "cell_type": "code",
   "execution_count": 236,
   "metadata": {},
   "outputs": [
    {
     "output_type": "execute_result",
     "data": {
      "text/plain": [
       "                      0\n",
       "0         July 11, 1990\n",
       "1          May 17, 1990\n",
       "2       August 10, 1990\n",
       "3     December 25, 1990\n",
       "4     December 19, 1990\n",
       "...                 ...\n",
       "7071  December 25, 2018\n",
       "7072  December 11, 2018\n",
       "7073   November 8, 2018\n",
       "7074    August 31, 2018\n",
       "7075      December 2018\n",
       "\n",
       "[7044 rows x 1 columns]"
      ],
      "text/html": "<div>\n<style scoped>\n    .dataframe tbody tr th:only-of-type {\n        vertical-align: middle;\n    }\n\n    .dataframe tbody tr th {\n        vertical-align: top;\n    }\n\n    .dataframe thead th {\n        text-align: right;\n    }\n</style>\n<table border=\"1\" class=\"dataframe\">\n  <thead>\n    <tr style=\"text-align: right;\">\n      <th></th>\n      <th>0</th>\n    </tr>\n  </thead>\n  <tbody>\n    <tr>\n      <th>0</th>\n      <td>July 11, 1990</td>\n    </tr>\n    <tr>\n      <th>1</th>\n      <td>May 17, 1990</td>\n    </tr>\n    <tr>\n      <th>2</th>\n      <td>August 10, 1990</td>\n    </tr>\n    <tr>\n      <th>3</th>\n      <td>December 25, 1990</td>\n    </tr>\n    <tr>\n      <th>4</th>\n      <td>December 19, 1990</td>\n    </tr>\n    <tr>\n      <th>...</th>\n      <td>...</td>\n    </tr>\n    <tr>\n      <th>7071</th>\n      <td>December 25, 2018</td>\n    </tr>\n    <tr>\n      <th>7072</th>\n      <td>December 11, 2018</td>\n    </tr>\n    <tr>\n      <th>7073</th>\n      <td>November 8, 2018</td>\n    </tr>\n    <tr>\n      <th>7074</th>\n      <td>August 31, 2018</td>\n    </tr>\n    <tr>\n      <th>7075</th>\n      <td>December 2018</td>\n    </tr>\n  </tbody>\n</table>\n<p>7044 rows × 1 columns</p>\n</div>"
     },
     "metadata": {},
     "execution_count": 236
    }
   ],
   "source": [
    "release_date.str.extract(f'({date_form_one}|{date_form_two}|{date_form_three}|{date_form_four})', flags=re.IGNORECASE)"
   ]
  },
  {
   "cell_type": "code",
   "execution_count": 237,
   "metadata": {},
   "outputs": [],
   "source": [
    "wiki_movies_df['release_date'] = pd.to_datetime(release_date.str.extract(f'({date_form_one}|{date_form_two}|{date_form_three}|{date_form_four})')[0], infer_datetime_format=True)"
   ]
  },
  {
   "cell_type": "code",
   "execution_count": 238,
   "metadata": {},
   "outputs": [],
   "source": [
    "running_time = wiki_movies_df['Running time'].dropna().apply(lambda x: ' '.join(x) if type(x) == list else x)\n"
   ]
  },
  {
   "cell_type": "code",
   "execution_count": 239,
   "metadata": {},
   "outputs": [
    {
     "output_type": "execute_result",
     "data": {
      "text/plain": [
       "6919"
      ]
     },
     "metadata": {},
     "execution_count": 239
    }
   ],
   "source": [
    "running_time.str.contains(r'^\\d*\\s*m', flags=re.IGNORECASE).sum()"
   ]
  },
  {
   "cell_type": "code",
   "execution_count": 240,
   "metadata": {},
   "outputs": [
    {
     "output_type": "execute_result",
     "data": {
      "text/plain": [
       "668                     UK:84 min (DVD version) US:86 min\n",
       "727                         78-102 min (depending on cut)\n",
       "840                       Varies (79 [3] –84 [1] minutes)\n",
       "1347                                              25 : 03\n",
       "1443    United States: 77 minutes Argentina: 94 minute...\n",
       "1499                                            1hr 35min\n",
       "1551                                               varies\n",
       "1774                    Netherlands:96 min, Canada:95 min\n",
       "1777                                       approx. 14 min\n",
       "2273                                           1 h 43 min\n",
       "2993                                               1h 48m\n",
       "3925                                              4 hours\n",
       "4425    US domestic version: 86 minutes Original versi...\n",
       "4967    Theatrical cut: 97 minutes Unrated cut: 107 mi...\n",
       "5424                    115 [1] /123 [2] /128 [3] minutes\n",
       "5447                                    1 hour 32 minutes\n",
       "7075                Variable; 90 minutes for default path\n",
       "Name: Running time, dtype: object"
      ]
     },
     "metadata": {},
     "execution_count": 240
    }
   ],
   "source": [
    "running_time[running_time.str.contains(r'^\\d*\\s*m', flags=re.IGNORECASE) != True]"
   ]
  },
  {
   "cell_type": "code",
   "execution_count": 241,
   "metadata": {},
   "outputs": [
    {
     "output_type": "execute_result",
     "data": {
      "text/plain": [
       "0     102 minutes\n",
       "1     114 minutes\n",
       "2     113 minutes\n",
       "3     106 minutes\n",
       "4      95 minutes\n",
       "5      95 minutes\n",
       "6     100 minutes\n",
       "7      99 minutes\n",
       "8      50 minutes\n",
       "9         102 min\n",
       "10     93 minutes\n",
       "11    110 minutes\n",
       "12    126 minutes\n",
       "13    121 minutes\n",
       "14    118 minutes\n",
       "15     99 minutes\n",
       "16     90 minutes\n",
       "17     94 minutes\n",
       "18    110 minutes\n",
       "19    190 minutes\n",
       "20     85 minutes\n",
       "21    102 minutes\n",
       "22    126 minutes\n",
       "23     96 minutes\n",
       "24     97 minutes\n",
       "25     97 minutes\n",
       "26         93 min\n",
       "27     97 minutes\n",
       "28        32 min.\n",
       "29     98 minutes\n",
       "Name: Running time, dtype: object"
      ]
     },
     "metadata": {},
     "execution_count": 241
    }
   ],
   "source": [
    "running_time[running_time.str.contains(r'(\\d+)\\s*ho?u?r?s?\\s*(\\d*)|(\\d+)\\s*m', flags=re.IGNORECASE) == True].head(30)"
   ]
  },
  {
   "cell_type": "code",
   "execution_count": 242,
   "metadata": {},
   "outputs": [],
   "source": [
    "running_time_extract = running_time.str.extract(r'(\\d+)\\s*ho?u?r?s?\\s*(\\d*)|(\\d+)\\s*m')"
   ]
  },
  {
   "cell_type": "code",
   "execution_count": 243,
   "metadata": {},
   "outputs": [],
   "source": [
    "running_time_extract = running_time_extract.apply(lambda col: pd.to_numeric(col, errors='coerce')).fillna(0)\n"
   ]
  },
  {
   "cell_type": "code",
   "execution_count": 244,
   "metadata": {},
   "outputs": [
    {
     "output_type": "error",
     "ename": "KeyError",
     "evalue": "'running_time'",
     "traceback": [
      "\u001b[1;31m---------------------------------------------------------------------------\u001b[0m",
      "\u001b[1;31mKeyError\u001b[0m                                  Traceback (most recent call last)",
      "\u001b[1;32m~\\anaconda3\\lib\\site-packages\\pandas\\core\\indexes\\base.py\u001b[0m in \u001b[0;36mget_loc\u001b[1;34m(self, key, method, tolerance)\u001b[0m\n\u001b[0;32m   3079\u001b[0m             \u001b[1;32mtry\u001b[0m\u001b[1;33m:\u001b[0m\u001b[1;33m\u001b[0m\u001b[1;33m\u001b[0m\u001b[0m\n\u001b[1;32m-> 3080\u001b[1;33m                 \u001b[1;32mreturn\u001b[0m \u001b[0mself\u001b[0m\u001b[1;33m.\u001b[0m\u001b[0m_engine\u001b[0m\u001b[1;33m.\u001b[0m\u001b[0mget_loc\u001b[0m\u001b[1;33m(\u001b[0m\u001b[0mcasted_key\u001b[0m\u001b[1;33m)\u001b[0m\u001b[1;33m\u001b[0m\u001b[1;33m\u001b[0m\u001b[0m\n\u001b[0m\u001b[0;32m   3081\u001b[0m             \u001b[1;32mexcept\u001b[0m \u001b[0mKeyError\u001b[0m \u001b[1;32mas\u001b[0m \u001b[0merr\u001b[0m\u001b[1;33m:\u001b[0m\u001b[1;33m\u001b[0m\u001b[1;33m\u001b[0m\u001b[0m\n",
      "\u001b[1;32mpandas\\_libs\\index.pyx\u001b[0m in \u001b[0;36mpandas._libs.index.IndexEngine.get_loc\u001b[1;34m()\u001b[0m\n",
      "\u001b[1;32mpandas\\_libs\\index.pyx\u001b[0m in \u001b[0;36mpandas._libs.index.IndexEngine.get_loc\u001b[1;34m()\u001b[0m\n",
      "\u001b[1;32mpandas\\_libs\\hashtable_class_helper.pxi\u001b[0m in \u001b[0;36mpandas._libs.hashtable.PyObjectHashTable.get_item\u001b[1;34m()\u001b[0m\n",
      "\u001b[1;32mpandas\\_libs\\hashtable_class_helper.pxi\u001b[0m in \u001b[0;36mpandas._libs.hashtable.PyObjectHashTable.get_item\u001b[1;34m()\u001b[0m\n",
      "\u001b[1;31mKeyError\u001b[0m: 'running_time'",
      "\nThe above exception was the direct cause of the following exception:\n",
      "\u001b[1;31mKeyError\u001b[0m                                  Traceback (most recent call last)",
      "\u001b[1;32m<ipython-input-244-f9a314fe33a9>\u001b[0m in \u001b[0;36m<module>\u001b[1;34m\u001b[0m\n\u001b[1;32m----> 1\u001b[1;33m \u001b[0mwiki_movies_df\u001b[0m\u001b[1;33m[\u001b[0m\u001b[1;34m'running_time'\u001b[0m\u001b[1;33m]\u001b[0m\u001b[1;33m.\u001b[0m\u001b[0mhead\u001b[0m\u001b[1;33m(\u001b[0m\u001b[1;36m3\u001b[0m\u001b[1;33m)\u001b[0m\u001b[1;33m\u001b[0m\u001b[1;33m\u001b[0m\u001b[0m\n\u001b[0m",
      "\u001b[1;32m~\\anaconda3\\lib\\site-packages\\pandas\\core\\frame.py\u001b[0m in \u001b[0;36m__getitem__\u001b[1;34m(self, key)\u001b[0m\n\u001b[0;32m   3022\u001b[0m             \u001b[1;32mif\u001b[0m \u001b[0mself\u001b[0m\u001b[1;33m.\u001b[0m\u001b[0mcolumns\u001b[0m\u001b[1;33m.\u001b[0m\u001b[0mnlevels\u001b[0m \u001b[1;33m>\u001b[0m \u001b[1;36m1\u001b[0m\u001b[1;33m:\u001b[0m\u001b[1;33m\u001b[0m\u001b[1;33m\u001b[0m\u001b[0m\n\u001b[0;32m   3023\u001b[0m                 \u001b[1;32mreturn\u001b[0m \u001b[0mself\u001b[0m\u001b[1;33m.\u001b[0m\u001b[0m_getitem_multilevel\u001b[0m\u001b[1;33m(\u001b[0m\u001b[0mkey\u001b[0m\u001b[1;33m)\u001b[0m\u001b[1;33m\u001b[0m\u001b[1;33m\u001b[0m\u001b[0m\n\u001b[1;32m-> 3024\u001b[1;33m             \u001b[0mindexer\u001b[0m \u001b[1;33m=\u001b[0m \u001b[0mself\u001b[0m\u001b[1;33m.\u001b[0m\u001b[0mcolumns\u001b[0m\u001b[1;33m.\u001b[0m\u001b[0mget_loc\u001b[0m\u001b[1;33m(\u001b[0m\u001b[0mkey\u001b[0m\u001b[1;33m)\u001b[0m\u001b[1;33m\u001b[0m\u001b[1;33m\u001b[0m\u001b[0m\n\u001b[0m\u001b[0;32m   3025\u001b[0m             \u001b[1;32mif\u001b[0m \u001b[0mis_integer\u001b[0m\u001b[1;33m(\u001b[0m\u001b[0mindexer\u001b[0m\u001b[1;33m)\u001b[0m\u001b[1;33m:\u001b[0m\u001b[1;33m\u001b[0m\u001b[1;33m\u001b[0m\u001b[0m\n\u001b[0;32m   3026\u001b[0m                 \u001b[0mindexer\u001b[0m \u001b[1;33m=\u001b[0m \u001b[1;33m[\u001b[0m\u001b[0mindexer\u001b[0m\u001b[1;33m]\u001b[0m\u001b[1;33m\u001b[0m\u001b[1;33m\u001b[0m\u001b[0m\n",
      "\u001b[1;32m~\\anaconda3\\lib\\site-packages\\pandas\\core\\indexes\\base.py\u001b[0m in \u001b[0;36mget_loc\u001b[1;34m(self, key, method, tolerance)\u001b[0m\n\u001b[0;32m   3080\u001b[0m                 \u001b[1;32mreturn\u001b[0m \u001b[0mself\u001b[0m\u001b[1;33m.\u001b[0m\u001b[0m_engine\u001b[0m\u001b[1;33m.\u001b[0m\u001b[0mget_loc\u001b[0m\u001b[1;33m(\u001b[0m\u001b[0mcasted_key\u001b[0m\u001b[1;33m)\u001b[0m\u001b[1;33m\u001b[0m\u001b[1;33m\u001b[0m\u001b[0m\n\u001b[0;32m   3081\u001b[0m             \u001b[1;32mexcept\u001b[0m \u001b[0mKeyError\u001b[0m \u001b[1;32mas\u001b[0m \u001b[0merr\u001b[0m\u001b[1;33m:\u001b[0m\u001b[1;33m\u001b[0m\u001b[1;33m\u001b[0m\u001b[0m\n\u001b[1;32m-> 3082\u001b[1;33m                 \u001b[1;32mraise\u001b[0m \u001b[0mKeyError\u001b[0m\u001b[1;33m(\u001b[0m\u001b[0mkey\u001b[0m\u001b[1;33m)\u001b[0m \u001b[1;32mfrom\u001b[0m \u001b[0merr\u001b[0m\u001b[1;33m\u001b[0m\u001b[1;33m\u001b[0m\u001b[0m\n\u001b[0m\u001b[0;32m   3083\u001b[0m \u001b[1;33m\u001b[0m\u001b[0m\n\u001b[0;32m   3084\u001b[0m         \u001b[1;32mif\u001b[0m \u001b[0mtolerance\u001b[0m \u001b[1;32mis\u001b[0m \u001b[1;32mnot\u001b[0m \u001b[1;32mNone\u001b[0m\u001b[1;33m:\u001b[0m\u001b[1;33m\u001b[0m\u001b[1;33m\u001b[0m\u001b[0m\n",
      "\u001b[1;31mKeyError\u001b[0m: 'running_time'"
     ]
    }
   ],
   "source": [
    "wiki_movies_df['running_time'].head(3)"
   ]
  },
  {
   "cell_type": "code",
   "execution_count": 251,
   "metadata": {},
   "outputs": [],
   "source": [
    "wiki_movies_df['running_time'] = running_time_extract.apply(lambda row: row[0]*60 + row[1] if row[2] == 0 else row[2], axis=1)"
   ]
  },
  {
   "cell_type": "code",
   "execution_count": 252,
   "metadata": {},
   "outputs": [],
   "source": [
    "wiki_movies_df.drop('Running time', axis=1, inplace=True)"
   ]
  },
  {
   "cell_type": "code",
   "execution_count": 253,
   "metadata": {},
   "outputs": [
    {
     "output_type": "execute_result",
     "data": {
      "text/plain": [
       "0        21.946943\n",
       "1        17.015539\n",
       "2          11.7129\n",
       "3         3.859495\n",
       "4         8.387519\n",
       "           ...    \n",
       "45461     0.072051\n",
       "45462     0.178241\n",
       "45463     0.903007\n",
       "45464     0.003503\n",
       "45465     0.163015\n",
       "Name: popularity, Length: 45466, dtype: object"
      ]
     },
     "metadata": {},
     "execution_count": 253
    }
   ],
   "source": [
    "kaggle_metadata['popularity']\n"
   ]
  },
  {
   "cell_type": "code",
   "execution_count": 254,
   "metadata": {},
   "outputs": [
    {
     "output_type": "execute_result",
     "data": {
      "text/plain": [
       "False                                                                                                                             45454\n",
       "True                                                                                                                                  9\n",
       " - Written by Ørnås                                                                                                                   1\n",
       " Avalanche Sharks tells the story of a bikini contest that turns into a horrifying affair when it is hit by a shark avalanche.        1\n",
       " Rune Balot goes to a casino connected to the October corporation to try to wrap up her case once and for all.                        1\n",
       "Name: adult, dtype: int64"
      ]
     },
     "metadata": {},
     "execution_count": 254
    }
   ],
   "source": [
    "kaggle_metadata['adult'].value_counts()"
   ]
  },
  {
   "cell_type": "code",
   "execution_count": 255,
   "metadata": {},
   "outputs": [
    {
     "output_type": "execute_result",
     "data": {
      "text/plain": [
       "                                                   adult  \\\n",
       "19730                                 - Written by Ørnås   \n",
       "29503   Rune Balot goes to a casino connected to the ...   \n",
       "35587   Avalanche Sharks tells the story of a bikini ...   \n",
       "\n",
       "      belongs_to_collection                            budget  \\\n",
       "19730              0.065736  /ff9qCepilowshEtG2GYWwzt2bs4.jpg   \n",
       "29503              1.931659  /zV8bHuSL6WXoD6FWogP9j4x80bL.jpg   \n",
       "35587              2.185485  /zaSf5OG7V8X8gqFvly88zDdRm46.jpg   \n",
       "\n",
       "                                                  genres  \\\n",
       "19730  [{'name': 'Carousel Productions', 'id': 11176}...   \n",
       "29503  [{'name': 'Aniplex', 'id': 2883}, {'name': 'Go...   \n",
       "35587  [{'name': 'Odyssey Media', 'id': 17161}, {'nam...   \n",
       "\n",
       "                                                homepage          id imdb_id  \\\n",
       "19730  [{'iso_3166_1': 'CA', 'name': 'Canada'}, {'iso...  1997-08-20       0   \n",
       "29503  [{'iso_3166_1': 'US', 'name': 'United States o...  2012-09-29       0   \n",
       "35587           [{'iso_3166_1': 'CA', 'name': 'Canada'}]  2014-01-01       0   \n",
       "\n",
       "      original_language                            original_title  overview  \\\n",
       "19730             104.0  [{'iso_639_1': 'en', 'name': 'English'}]  Released   \n",
       "29503              68.0      [{'iso_639_1': 'ja', 'name': '日本語'}]  Released   \n",
       "35587              82.0  [{'iso_639_1': 'en', 'name': 'English'}]  Released   \n",
       "\n",
       "       ... release_date revenue runtime spoken_languages status  tagline  \\\n",
       "19730  ...            1     NaN     NaN              NaN    NaN      NaN   \n",
       "29503  ...           12     NaN     NaN              NaN    NaN      NaN   \n",
       "35587  ...           22     NaN     NaN              NaN    NaN      NaN   \n",
       "\n",
       "       title video vote_average vote_count  \n",
       "19730    NaN   NaN          NaN        NaN  \n",
       "29503    NaN   NaN          NaN        NaN  \n",
       "35587    NaN   NaN          NaN        NaN  \n",
       "\n",
       "[3 rows x 24 columns]"
      ],
      "text/html": "<div>\n<style scoped>\n    .dataframe tbody tr th:only-of-type {\n        vertical-align: middle;\n    }\n\n    .dataframe tbody tr th {\n        vertical-align: top;\n    }\n\n    .dataframe thead th {\n        text-align: right;\n    }\n</style>\n<table border=\"1\" class=\"dataframe\">\n  <thead>\n    <tr style=\"text-align: right;\">\n      <th></th>\n      <th>adult</th>\n      <th>belongs_to_collection</th>\n      <th>budget</th>\n      <th>genres</th>\n      <th>homepage</th>\n      <th>id</th>\n      <th>imdb_id</th>\n      <th>original_language</th>\n      <th>original_title</th>\n      <th>overview</th>\n      <th>...</th>\n      <th>release_date</th>\n      <th>revenue</th>\n      <th>runtime</th>\n      <th>spoken_languages</th>\n      <th>status</th>\n      <th>tagline</th>\n      <th>title</th>\n      <th>video</th>\n      <th>vote_average</th>\n      <th>vote_count</th>\n    </tr>\n  </thead>\n  <tbody>\n    <tr>\n      <th>19730</th>\n      <td>- Written by Ørnås</td>\n      <td>0.065736</td>\n      <td>/ff9qCepilowshEtG2GYWwzt2bs4.jpg</td>\n      <td>[{'name': 'Carousel Productions', 'id': 11176}...</td>\n      <td>[{'iso_3166_1': 'CA', 'name': 'Canada'}, {'iso...</td>\n      <td>1997-08-20</td>\n      <td>0</td>\n      <td>104.0</td>\n      <td>[{'iso_639_1': 'en', 'name': 'English'}]</td>\n      <td>Released</td>\n      <td>...</td>\n      <td>1</td>\n      <td>NaN</td>\n      <td>NaN</td>\n      <td>NaN</td>\n      <td>NaN</td>\n      <td>NaN</td>\n      <td>NaN</td>\n      <td>NaN</td>\n      <td>NaN</td>\n      <td>NaN</td>\n    </tr>\n    <tr>\n      <th>29503</th>\n      <td>Rune Balot goes to a casino connected to the ...</td>\n      <td>1.931659</td>\n      <td>/zV8bHuSL6WXoD6FWogP9j4x80bL.jpg</td>\n      <td>[{'name': 'Aniplex', 'id': 2883}, {'name': 'Go...</td>\n      <td>[{'iso_3166_1': 'US', 'name': 'United States o...</td>\n      <td>2012-09-29</td>\n      <td>0</td>\n      <td>68.0</td>\n      <td>[{'iso_639_1': 'ja', 'name': '日本語'}]</td>\n      <td>Released</td>\n      <td>...</td>\n      <td>12</td>\n      <td>NaN</td>\n      <td>NaN</td>\n      <td>NaN</td>\n      <td>NaN</td>\n      <td>NaN</td>\n      <td>NaN</td>\n      <td>NaN</td>\n      <td>NaN</td>\n      <td>NaN</td>\n    </tr>\n    <tr>\n      <th>35587</th>\n      <td>Avalanche Sharks tells the story of a bikini ...</td>\n      <td>2.185485</td>\n      <td>/zaSf5OG7V8X8gqFvly88zDdRm46.jpg</td>\n      <td>[{'name': 'Odyssey Media', 'id': 17161}, {'nam...</td>\n      <td>[{'iso_3166_1': 'CA', 'name': 'Canada'}]</td>\n      <td>2014-01-01</td>\n      <td>0</td>\n      <td>82.0</td>\n      <td>[{'iso_639_1': 'en', 'name': 'English'}]</td>\n      <td>Released</td>\n      <td>...</td>\n      <td>22</td>\n      <td>NaN</td>\n      <td>NaN</td>\n      <td>NaN</td>\n      <td>NaN</td>\n      <td>NaN</td>\n      <td>NaN</td>\n      <td>NaN</td>\n      <td>NaN</td>\n      <td>NaN</td>\n    </tr>\n  </tbody>\n</table>\n<p>3 rows × 24 columns</p>\n</div>"
     },
     "metadata": {},
     "execution_count": 255
    }
   ],
   "source": [
    "kaggle_metadata[~kaggle_metadata['adult'].isin(['True','False'])]"
   ]
  },
  {
   "cell_type": "code",
   "execution_count": 256,
   "metadata": {},
   "outputs": [],
   "source": [
    "\n",
    "\n",
    "kaggle_metadata = kaggle_metadata[kaggle_metadata['adult'] == 'False'].drop('adult',axis='columns')"
   ]
  },
  {
   "cell_type": "code",
   "execution_count": 257,
   "metadata": {},
   "outputs": [
    {
     "output_type": "execute_result",
     "data": {
      "text/plain": [
       "False    45358\n",
       "True        93\n",
       "Name: video, dtype: int64"
      ]
     },
     "metadata": {},
     "execution_count": 257
    }
   ],
   "source": [
    "kaggle_metadata['video'].value_counts()"
   ]
  },
  {
   "cell_type": "code",
   "execution_count": 258,
   "metadata": {},
   "outputs": [],
   "source": [
    "kaggle_metadata['video'] = kaggle_metadata['video'].astype('bool')"
   ]
  },
  {
   "cell_type": "code",
   "execution_count": 259,
   "metadata": {},
   "outputs": [
    {
     "output_type": "execute_result",
     "data": {
      "text/plain": [
       "belongs_to_collection     object\n",
       "budget                    object\n",
       "genres                    object\n",
       "homepage                  object\n",
       "id                        object\n",
       "imdb_id                   object\n",
       "original_language         object\n",
       "original_title            object\n",
       "overview                  object\n",
       "popularity                object\n",
       "poster_path               object\n",
       "production_companies      object\n",
       "production_countries      object\n",
       "release_date              object\n",
       "revenue                  float64\n",
       "runtime                  float64\n",
       "spoken_languages          object\n",
       "status                    object\n",
       "tagline                   object\n",
       "title                     object\n",
       "video                       bool\n",
       "vote_average             float64\n",
       "vote_count               float64\n",
       "dtype: object"
      ]
     },
     "metadata": {},
     "execution_count": 259
    }
   ],
   "source": [
    "kaggle_metadata.dtypes\n"
   ]
  },
  {
   "cell_type": "code",
   "execution_count": 260,
   "metadata": {},
   "outputs": [],
   "source": [
    "kaggle_metadata['budget'] = kaggle_metadata['budget'].astype(int)\n",
    "kaggle_metadata['id'] = pd.to_numeric(kaggle_metadata['id'], errors='raise')\n",
    "kaggle_metadata['popularity'] = pd.to_numeric(kaggle_metadata['popularity'], errors='raise')"
   ]
  },
  {
   "cell_type": "code",
   "execution_count": 262,
   "metadata": {},
   "outputs": [
    {
     "output_type": "execute_result",
     "data": {
      "text/plain": [
       "belongs_to_collection     object\n",
       "budget                     int32\n",
       "genres                    object\n",
       "homepage                  object\n",
       "id                         int64\n",
       "imdb_id                   object\n",
       "original_language         object\n",
       "original_title            object\n",
       "overview                  object\n",
       "popularity               float64\n",
       "poster_path               object\n",
       "production_companies      object\n",
       "production_countries      object\n",
       "release_date              object\n",
       "revenue                  float64\n",
       "runtime                  float64\n",
       "spoken_languages          object\n",
       "status                    object\n",
       "tagline                   object\n",
       "title                     object\n",
       "video                       bool\n",
       "vote_average             float64\n",
       "vote_count               float64\n",
       "dtype: object"
      ]
     },
     "metadata": {},
     "execution_count": 262
    }
   ],
   "source": [
    "kaggle_metadata.dtypes"
   ]
  },
  {
   "cell_type": "code",
   "execution_count": 263,
   "metadata": {},
   "outputs": [],
   "source": [
    "kaggle_metadata['release_date'] = pd.to_datetime(kaggle_metadata['release_date'])"
   ]
  },
  {
   "cell_type": "code",
   "execution_count": 264,
   "metadata": {},
   "outputs": [
    {
     "output_type": "stream",
     "name": "stdout",
     "text": [
      "<class 'pandas.core.frame.DataFrame'>\nRangeIndex: 26024289 entries, 0 to 26024288\nData columns (total 4 columns):\n #   Column     Non-Null Count     Dtype  \n---  ------     --------------     -----  \n 0   userId     26024289 non-null  int64  \n 1   movieId    26024289 non-null  int64  \n 2   rating     26024289 non-null  float64\n 3   timestamp  26024289 non-null  int64  \ndtypes: float64(1), int64(3)\nmemory usage: 794.2 MB\n"
     ]
    }
   ],
   "source": [
    "ratings.info(null_counts=True)"
   ]
  },
  {
   "cell_type": "code",
   "execution_count": 265,
   "metadata": {},
   "outputs": [
    {
     "output_type": "execute_result",
     "data": {
      "text/plain": [
       "0          2015-03-09 22:52:09\n",
       "1          2015-03-09 23:07:15\n",
       "2          2015-03-09 22:52:03\n",
       "3          2015-03-09 22:52:26\n",
       "4          2015-03-09 22:52:36\n",
       "                   ...        \n",
       "26024284   2009-10-31 23:26:04\n",
       "26024285   2009-10-31 23:33:52\n",
       "26024286   2009-10-31 23:29:24\n",
       "26024287   2009-11-01 00:06:30\n",
       "26024288   2009-10-31 23:30:58\n",
       "Name: timestamp, Length: 26024289, dtype: datetime64[ns]"
      ]
     },
     "metadata": {},
     "execution_count": 265
    }
   ],
   "source": [
    "pd.to_datetime(ratings['timestamp'], unit='s')"
   ]
  },
  {
   "cell_type": "code",
   "execution_count": 266,
   "metadata": {},
   "outputs": [],
   "source": [
    "ratings['timestamp'] = pd.to_datetime(ratings['timestamp'], unit='s')"
   ]
  },
  {
   "cell_type": "code",
   "execution_count": 267,
   "metadata": {},
   "outputs": [
    {
     "output_type": "execute_result",
     "data": {
      "text/plain": [
       "count          26,024,289.00\n",
       "mean                    3.53\n",
       "std                     1.07\n",
       "min                     0.50\n",
       "25%                     3.00\n",
       "50%                     3.50\n",
       "75%                     4.00\n",
       "max                     5.00\n",
       "Name: rating, dtype: float64"
      ]
     },
     "metadata": {},
     "execution_count": 267
    },
    {
     "output_type": "display_data",
     "data": {
      "text/plain": "<Figure size 432x288 with 1 Axes>",
      "image/svg+xml": "<?xml version=\"1.0\" encoding=\"utf-8\" standalone=\"no\"?>\r\n<!DOCTYPE svg PUBLIC \"-//W3C//DTD SVG 1.1//EN\"\r\n  \"http://www.w3.org/Graphics/SVG/1.1/DTD/svg11.dtd\">\r\n<!-- Created with matplotlib (https://matplotlib.org/) -->\r\n<svg height=\"259.116562pt\" version=\"1.1\" viewBox=\"0 0 376.240625 259.116562\" width=\"376.240625pt\" xmlns=\"http://www.w3.org/2000/svg\" xmlns:xlink=\"http://www.w3.org/1999/xlink\">\r\n <metadata>\r\n  <rdf:RDF xmlns:cc=\"http://creativecommons.org/ns#\" xmlns:dc=\"http://purl.org/dc/elements/1.1/\" xmlns:rdf=\"http://www.w3.org/1999/02/22-rdf-syntax-ns#\">\r\n   <cc:Work>\r\n    <dc:type rdf:resource=\"http://purl.org/dc/dcmitype/StillImage\"/>\r\n    <dc:date>2021-02-19T14:14:24.524260</dc:date>\r\n    <dc:format>image/svg+xml</dc:format>\r\n    <dc:creator>\r\n     <cc:Agent>\r\n      <dc:title>Matplotlib v3.3.2, https://matplotlib.org/</dc:title>\r\n     </cc:Agent>\r\n    </dc:creator>\r\n   </cc:Work>\r\n  </rdf:RDF>\r\n </metadata>\r\n <defs>\r\n  <style type=\"text/css\">*{stroke-linecap:butt;stroke-linejoin:round;}</style>\r\n </defs>\r\n <g id=\"figure_1\">\r\n  <g id=\"patch_1\">\r\n   <path d=\"M 0 259.116562 \r\nL 376.240625 259.116562 \r\nL 376.240625 0 \r\nL 0 0 \r\nz\r\n\" style=\"fill:none;\"/>\r\n  </g>\r\n  <g id=\"axes_1\">\r\n   <g id=\"patch_2\">\r\n    <path d=\"M 34.240625 235.238437 \r\nL 369.040625 235.238437 \r\nL 369.040625 17.798437 \r\nL 34.240625 17.798437 \r\nz\r\n\" style=\"fill:#ffffff;\"/>\r\n   </g>\r\n   <g id=\"patch_3\">\r\n    <path clip-path=\"url(#p68f5017439)\" d=\"M 49.458807 235.238437 \r\nL 79.89517 235.238437 \r\nL 79.89517 223.258047 \r\nL 49.458807 223.258047 \r\nz\r\n\" style=\"fill:#1f77b4;\"/>\r\n   </g>\r\n   <g id=\"patch_4\">\r\n    <path clip-path=\"url(#p68f5017439)\" d=\"M 79.89517 235.238437 \r\nL 110.331534 235.238437 \r\nL 110.331534 210.285959 \r\nL 79.89517 210.285959 \r\nz\r\n\" style=\"fill:#1f77b4;\"/>\r\n   </g>\r\n   <g id=\"patch_5\">\r\n    <path clip-path=\"url(#p68f5017439)\" d=\"M 110.331534 235.238437 \r\nL 140.767898 235.238437 \r\nL 140.767898 223.296216 \r\nL 110.331534 223.296216 \r\nz\r\n\" style=\"fill:#1f77b4;\"/>\r\n   </g>\r\n   <g id=\"patch_6\">\r\n    <path clip-path=\"url(#p68f5017439)\" d=\"M 140.767898 235.238437 \r\nL 171.204261 235.238437 \r\nL 171.204261 183.090063 \r\nL 140.767898 183.090063 \r\nz\r\n\" style=\"fill:#1f77b4;\"/>\r\n   </g>\r\n   <g id=\"patch_7\">\r\n    <path clip-path=\"url(#p68f5017439)\" d=\"M 171.204261 235.238437 \r\nL 201.640625 235.238437 \r\nL 201.640625 198.093979 \r\nL 171.204261 198.093979 \r\nz\r\n\" style=\"fill:#1f77b4;\"/>\r\n   </g>\r\n   <g id=\"patch_8\">\r\n    <path clip-path=\"url(#p68f5017439)\" d=\"M 201.640625 235.238437 \r\nL 232.076989 235.238437 \r\nL 232.076989 79.698671 \r\nL 201.640625 79.698671 \r\nz\r\n\" style=\"fill:#1f77b4;\"/>\r\n   </g>\r\n   <g id=\"patch_9\">\r\n    <path clip-path=\"url(#p68f5017439)\" d=\"M 232.076989 235.238437 \r\nL 262.513352 235.238437 \r\nL 262.513352 143.033629 \r\nL 232.076989 143.033629 \r\nz\r\n\" style=\"fill:#1f77b4;\"/>\r\n   </g>\r\n   <g id=\"patch_10\">\r\n    <path clip-path=\"url(#p68f5017439)\" d=\"M 262.513352 235.238437 \r\nL 292.949716 235.238437 \r\nL 292.949716 28.152723 \r\nL 262.513352 28.152723 \r\nz\r\n\" style=\"fill:#1f77b4;\"/>\r\n   </g>\r\n   <g id=\"patch_11\">\r\n    <path clip-path=\"url(#p68f5017439)\" d=\"M 292.949716 235.238437 \r\nL 323.38608 235.238437 \r\nL 323.38608 171.017829 \r\nL 292.949716 171.017829 \r\nz\r\n\" style=\"fill:#1f77b4;\"/>\r\n   </g>\r\n   <g id=\"patch_12\">\r\n    <path clip-path=\"url(#p68f5017439)\" d=\"M 323.38608 235.238437 \r\nL 353.822443 235.238437 \r\nL 353.822443 122.431406 \r\nL 323.38608 122.431406 \r\nz\r\n\" style=\"fill:#1f77b4;\"/>\r\n   </g>\r\n   <g id=\"matplotlib.axis_1\">\r\n    <g id=\"xtick_1\">\r\n     <g id=\"line2d_1\">\r\n      <defs>\r\n       <path d=\"M 0 0 \r\nL 0 3.5 \r\n\" id=\"m974c30a214\" style=\"stroke:#000000;stroke-width:0.8;\"/>\r\n      </defs>\r\n      <g>\r\n       <use style=\"stroke:#000000;stroke-width:0.8;\" x=\"83.276989\" xlink:href=\"#m974c30a214\" y=\"235.238437\"/>\r\n      </g>\r\n     </g>\r\n     <g id=\"text_1\">\r\n      <!-- 1 -->\r\n      <g transform=\"translate(80.095739 249.836875)scale(0.1 -0.1)\">\r\n       <defs>\r\n        <path d=\"M 12.40625 8.296875 \r\nL 28.515625 8.296875 \r\nL 28.515625 63.921875 \r\nL 10.984375 60.40625 \r\nL 10.984375 69.390625 \r\nL 28.421875 72.90625 \r\nL 38.28125 72.90625 \r\nL 38.28125 8.296875 \r\nL 54.390625 8.296875 \r\nL 54.390625 0 \r\nL 12.40625 0 \r\nz\r\n\" id=\"DejaVuSans-49\"/>\r\n       </defs>\r\n       <use xlink:href=\"#DejaVuSans-49\"/>\r\n      </g>\r\n     </g>\r\n    </g>\r\n    <g id=\"xtick_2\">\r\n     <g id=\"line2d_2\">\r\n      <g>\r\n       <use style=\"stroke:#000000;stroke-width:0.8;\" x=\"150.913352\" xlink:href=\"#m974c30a214\" y=\"235.238437\"/>\r\n      </g>\r\n     </g>\r\n     <g id=\"text_2\">\r\n      <!-- 2 -->\r\n      <g transform=\"translate(147.732102 249.836875)scale(0.1 -0.1)\">\r\n       <defs>\r\n        <path d=\"M 19.1875 8.296875 \r\nL 53.609375 8.296875 \r\nL 53.609375 0 \r\nL 7.328125 0 \r\nL 7.328125 8.296875 \r\nQ 12.9375 14.109375 22.625 23.890625 \r\nQ 32.328125 33.6875 34.8125 36.53125 \r\nQ 39.546875 41.84375 41.421875 45.53125 \r\nQ 43.3125 49.21875 43.3125 52.78125 \r\nQ 43.3125 58.59375 39.234375 62.25 \r\nQ 35.15625 65.921875 28.609375 65.921875 \r\nQ 23.96875 65.921875 18.8125 64.3125 \r\nQ 13.671875 62.703125 7.8125 59.421875 \r\nL 7.8125 69.390625 \r\nQ 13.765625 71.78125 18.9375 73 \r\nQ 24.125 74.21875 28.421875 74.21875 \r\nQ 39.75 74.21875 46.484375 68.546875 \r\nQ 53.21875 62.890625 53.21875 53.421875 \r\nQ 53.21875 48.921875 51.53125 44.890625 \r\nQ 49.859375 40.875 45.40625 35.40625 \r\nQ 44.1875 33.984375 37.640625 27.21875 \r\nQ 31.109375 20.453125 19.1875 8.296875 \r\nz\r\n\" id=\"DejaVuSans-50\"/>\r\n       </defs>\r\n       <use xlink:href=\"#DejaVuSans-50\"/>\r\n      </g>\r\n     </g>\r\n    </g>\r\n    <g id=\"xtick_3\">\r\n     <g id=\"line2d_3\">\r\n      <g>\r\n       <use style=\"stroke:#000000;stroke-width:0.8;\" x=\"218.549716\" xlink:href=\"#m974c30a214\" y=\"235.238437\"/>\r\n      </g>\r\n     </g>\r\n     <g id=\"text_3\">\r\n      <!-- 3 -->\r\n      <g transform=\"translate(215.368466 249.836875)scale(0.1 -0.1)\">\r\n       <defs>\r\n        <path d=\"M 40.578125 39.3125 \r\nQ 47.65625 37.796875 51.625 33 \r\nQ 55.609375 28.21875 55.609375 21.1875 \r\nQ 55.609375 10.40625 48.1875 4.484375 \r\nQ 40.765625 -1.421875 27.09375 -1.421875 \r\nQ 22.515625 -1.421875 17.65625 -0.515625 \r\nQ 12.796875 0.390625 7.625 2.203125 \r\nL 7.625 11.71875 \r\nQ 11.71875 9.328125 16.59375 8.109375 \r\nQ 21.484375 6.890625 26.8125 6.890625 \r\nQ 36.078125 6.890625 40.9375 10.546875 \r\nQ 45.796875 14.203125 45.796875 21.1875 \r\nQ 45.796875 27.640625 41.28125 31.265625 \r\nQ 36.765625 34.90625 28.71875 34.90625 \r\nL 20.21875 34.90625 \r\nL 20.21875 43.015625 \r\nL 29.109375 43.015625 \r\nQ 36.375 43.015625 40.234375 45.921875 \r\nQ 44.09375 48.828125 44.09375 54.296875 \r\nQ 44.09375 59.90625 40.109375 62.90625 \r\nQ 36.140625 65.921875 28.71875 65.921875 \r\nQ 24.65625 65.921875 20.015625 65.03125 \r\nQ 15.375 64.15625 9.8125 62.3125 \r\nL 9.8125 71.09375 \r\nQ 15.4375 72.65625 20.34375 73.4375 \r\nQ 25.25 74.21875 29.59375 74.21875 \r\nQ 40.828125 74.21875 47.359375 69.109375 \r\nQ 53.90625 64.015625 53.90625 55.328125 \r\nQ 53.90625 49.265625 50.4375 45.09375 \r\nQ 46.96875 40.921875 40.578125 39.3125 \r\nz\r\n\" id=\"DejaVuSans-51\"/>\r\n       </defs>\r\n       <use xlink:href=\"#DejaVuSans-51\"/>\r\n      </g>\r\n     </g>\r\n    </g>\r\n    <g id=\"xtick_4\">\r\n     <g id=\"line2d_4\">\r\n      <g>\r\n       <use style=\"stroke:#000000;stroke-width:0.8;\" x=\"286.18608\" xlink:href=\"#m974c30a214\" y=\"235.238437\"/>\r\n      </g>\r\n     </g>\r\n     <g id=\"text_4\">\r\n      <!-- 4 -->\r\n      <g transform=\"translate(283.00483 249.836875)scale(0.1 -0.1)\">\r\n       <defs>\r\n        <path d=\"M 37.796875 64.3125 \r\nL 12.890625 25.390625 \r\nL 37.796875 25.390625 \r\nz\r\nM 35.203125 72.90625 \r\nL 47.609375 72.90625 \r\nL 47.609375 25.390625 \r\nL 58.015625 25.390625 \r\nL 58.015625 17.1875 \r\nL 47.609375 17.1875 \r\nL 47.609375 0 \r\nL 37.796875 0 \r\nL 37.796875 17.1875 \r\nL 4.890625 17.1875 \r\nL 4.890625 26.703125 \r\nz\r\n\" id=\"DejaVuSans-52\"/>\r\n       </defs>\r\n       <use xlink:href=\"#DejaVuSans-52\"/>\r\n      </g>\r\n     </g>\r\n    </g>\r\n    <g id=\"xtick_5\">\r\n     <g id=\"line2d_5\">\r\n      <g>\r\n       <use style=\"stroke:#000000;stroke-width:0.8;\" x=\"353.822443\" xlink:href=\"#m974c30a214\" y=\"235.238437\"/>\r\n      </g>\r\n     </g>\r\n     <g id=\"text_5\">\r\n      <!-- 5 -->\r\n      <g transform=\"translate(350.641193 249.836875)scale(0.1 -0.1)\">\r\n       <defs>\r\n        <path d=\"M 10.796875 72.90625 \r\nL 49.515625 72.90625 \r\nL 49.515625 64.59375 \r\nL 19.828125 64.59375 \r\nL 19.828125 46.734375 \r\nQ 21.96875 47.46875 24.109375 47.828125 \r\nQ 26.265625 48.1875 28.421875 48.1875 \r\nQ 40.625 48.1875 47.75 41.5 \r\nQ 54.890625 34.8125 54.890625 23.390625 \r\nQ 54.890625 11.625 47.5625 5.09375 \r\nQ 40.234375 -1.421875 26.90625 -1.421875 \r\nQ 22.3125 -1.421875 17.546875 -0.640625 \r\nQ 12.796875 0.140625 7.71875 1.703125 \r\nL 7.71875 11.625 \r\nQ 12.109375 9.234375 16.796875 8.0625 \r\nQ 21.484375 6.890625 26.703125 6.890625 \r\nQ 35.15625 6.890625 40.078125 11.328125 \r\nQ 45.015625 15.765625 45.015625 23.390625 \r\nQ 45.015625 31 40.078125 35.4375 \r\nQ 35.15625 39.890625 26.703125 39.890625 \r\nQ 22.75 39.890625 18.8125 39.015625 \r\nQ 14.890625 38.140625 10.796875 36.28125 \r\nz\r\n\" id=\"DejaVuSans-53\"/>\r\n       </defs>\r\n       <use xlink:href=\"#DejaVuSans-53\"/>\r\n      </g>\r\n     </g>\r\n    </g>\r\n   </g>\r\n   <g id=\"matplotlib.axis_2\">\r\n    <g id=\"ytick_1\">\r\n     <g id=\"line2d_6\">\r\n      <defs>\r\n       <path d=\"M 0 0 \r\nL -3.5 0 \r\n\" id=\"meca0a6c34e\" style=\"stroke:#000000;stroke-width:0.8;\"/>\r\n      </defs>\r\n      <g>\r\n       <use style=\"stroke:#000000;stroke-width:0.8;\" x=\"34.240625\" xlink:href=\"#meca0a6c34e\" y=\"235.238437\"/>\r\n      </g>\r\n     </g>\r\n     <g id=\"text_6\">\r\n      <!-- 0 -->\r\n      <g transform=\"translate(20.878125 239.037656)scale(0.1 -0.1)\">\r\n       <defs>\r\n        <path d=\"M 31.78125 66.40625 \r\nQ 24.171875 66.40625 20.328125 58.90625 \r\nQ 16.5 51.421875 16.5 36.375 \r\nQ 16.5 21.390625 20.328125 13.890625 \r\nQ 24.171875 6.390625 31.78125 6.390625 \r\nQ 39.453125 6.390625 43.28125 13.890625 \r\nQ 47.125 21.390625 47.125 36.375 \r\nQ 47.125 51.421875 43.28125 58.90625 \r\nQ 39.453125 66.40625 31.78125 66.40625 \r\nz\r\nM 31.78125 74.21875 \r\nQ 44.046875 74.21875 50.515625 64.515625 \r\nQ 56.984375 54.828125 56.984375 36.375 \r\nQ 56.984375 17.96875 50.515625 8.265625 \r\nQ 44.046875 -1.421875 31.78125 -1.421875 \r\nQ 19.53125 -1.421875 13.0625 8.265625 \r\nQ 6.59375 17.96875 6.59375 36.375 \r\nQ 6.59375 54.828125 13.0625 64.515625 \r\nQ 19.53125 74.21875 31.78125 74.21875 \r\nz\r\n\" id=\"DejaVuSans-48\"/>\r\n       </defs>\r\n       <use xlink:href=\"#DejaVuSans-48\"/>\r\n      </g>\r\n     </g>\r\n    </g>\r\n    <g id=\"ytick_2\">\r\n     <g id=\"line2d_7\">\r\n      <g>\r\n       <use style=\"stroke:#000000;stroke-width:0.8;\" x=\"34.240625\" xlink:href=\"#meca0a6c34e\" y=\"205.6497\"/>\r\n      </g>\r\n     </g>\r\n     <g id=\"text_7\">\r\n      <!-- 1 -->\r\n      <g transform=\"translate(20.878125 209.448919)scale(0.1 -0.1)\">\r\n       <use xlink:href=\"#DejaVuSans-49\"/>\r\n      </g>\r\n     </g>\r\n    </g>\r\n    <g id=\"ytick_3\">\r\n     <g id=\"line2d_8\">\r\n      <g>\r\n       <use style=\"stroke:#000000;stroke-width:0.8;\" x=\"34.240625\" xlink:href=\"#meca0a6c34e\" y=\"176.060963\"/>\r\n      </g>\r\n     </g>\r\n     <g id=\"text_8\">\r\n      <!-- 2 -->\r\n      <g transform=\"translate(20.878125 179.860182)scale(0.1 -0.1)\">\r\n       <use xlink:href=\"#DejaVuSans-50\"/>\r\n      </g>\r\n     </g>\r\n    </g>\r\n    <g id=\"ytick_4\">\r\n     <g id=\"line2d_9\">\r\n      <g>\r\n       <use style=\"stroke:#000000;stroke-width:0.8;\" x=\"34.240625\" xlink:href=\"#meca0a6c34e\" y=\"146.472225\"/>\r\n      </g>\r\n     </g>\r\n     <g id=\"text_9\">\r\n      <!-- 3 -->\r\n      <g transform=\"translate(20.878125 150.271444)scale(0.1 -0.1)\">\r\n       <use xlink:href=\"#DejaVuSans-51\"/>\r\n      </g>\r\n     </g>\r\n    </g>\r\n    <g id=\"ytick_5\">\r\n     <g id=\"line2d_10\">\r\n      <g>\r\n       <use style=\"stroke:#000000;stroke-width:0.8;\" x=\"34.240625\" xlink:href=\"#meca0a6c34e\" y=\"116.883488\"/>\r\n      </g>\r\n     </g>\r\n     <g id=\"text_10\">\r\n      <!-- 4 -->\r\n      <g transform=\"translate(20.878125 120.682707)scale(0.1 -0.1)\">\r\n       <use xlink:href=\"#DejaVuSans-52\"/>\r\n      </g>\r\n     </g>\r\n    </g>\r\n    <g id=\"ytick_6\">\r\n     <g id=\"line2d_11\">\r\n      <g>\r\n       <use style=\"stroke:#000000;stroke-width:0.8;\" x=\"34.240625\" xlink:href=\"#meca0a6c34e\" y=\"87.294751\"/>\r\n      </g>\r\n     </g>\r\n     <g id=\"text_11\">\r\n      <!-- 5 -->\r\n      <g transform=\"translate(20.878125 91.093969)scale(0.1 -0.1)\">\r\n       <use xlink:href=\"#DejaVuSans-53\"/>\r\n      </g>\r\n     </g>\r\n    </g>\r\n    <g id=\"ytick_7\">\r\n     <g id=\"line2d_12\">\r\n      <g>\r\n       <use style=\"stroke:#000000;stroke-width:0.8;\" x=\"34.240625\" xlink:href=\"#meca0a6c34e\" y=\"57.706013\"/>\r\n      </g>\r\n     </g>\r\n     <g id=\"text_12\">\r\n      <!-- 6 -->\r\n      <g transform=\"translate(20.878125 61.505232)scale(0.1 -0.1)\">\r\n       <defs>\r\n        <path d=\"M 33.015625 40.375 \r\nQ 26.375 40.375 22.484375 35.828125 \r\nQ 18.609375 31.296875 18.609375 23.390625 \r\nQ 18.609375 15.53125 22.484375 10.953125 \r\nQ 26.375 6.390625 33.015625 6.390625 \r\nQ 39.65625 6.390625 43.53125 10.953125 \r\nQ 47.40625 15.53125 47.40625 23.390625 \r\nQ 47.40625 31.296875 43.53125 35.828125 \r\nQ 39.65625 40.375 33.015625 40.375 \r\nz\r\nM 52.59375 71.296875 \r\nL 52.59375 62.3125 \r\nQ 48.875 64.0625 45.09375 64.984375 \r\nQ 41.3125 65.921875 37.59375 65.921875 \r\nQ 27.828125 65.921875 22.671875 59.328125 \r\nQ 17.53125 52.734375 16.796875 39.40625 \r\nQ 19.671875 43.65625 24.015625 45.921875 \r\nQ 28.375 48.1875 33.59375 48.1875 \r\nQ 44.578125 48.1875 50.953125 41.515625 \r\nQ 57.328125 34.859375 57.328125 23.390625 \r\nQ 57.328125 12.15625 50.6875 5.359375 \r\nQ 44.046875 -1.421875 33.015625 -1.421875 \r\nQ 20.359375 -1.421875 13.671875 8.265625 \r\nQ 6.984375 17.96875 6.984375 36.375 \r\nQ 6.984375 53.65625 15.1875 63.9375 \r\nQ 23.390625 74.21875 37.203125 74.21875 \r\nQ 40.921875 74.21875 44.703125 73.484375 \r\nQ 48.484375 72.75 52.59375 71.296875 \r\nz\r\n\" id=\"DejaVuSans-54\"/>\r\n       </defs>\r\n       <use xlink:href=\"#DejaVuSans-54\"/>\r\n      </g>\r\n     </g>\r\n    </g>\r\n    <g id=\"ytick_8\">\r\n     <g id=\"line2d_13\">\r\n      <g>\r\n       <use style=\"stroke:#000000;stroke-width:0.8;\" x=\"34.240625\" xlink:href=\"#meca0a6c34e\" y=\"28.117276\"/>\r\n      </g>\r\n     </g>\r\n     <g id=\"text_13\">\r\n      <!-- 7 -->\r\n      <g transform=\"translate(20.878125 31.916495)scale(0.1 -0.1)\">\r\n       <defs>\r\n        <path d=\"M 8.203125 72.90625 \r\nL 55.078125 72.90625 \r\nL 55.078125 68.703125 \r\nL 28.609375 0 \r\nL 18.3125 0 \r\nL 43.21875 64.59375 \r\nL 8.203125 64.59375 \r\nz\r\n\" id=\"DejaVuSans-55\"/>\r\n       </defs>\r\n       <use xlink:href=\"#DejaVuSans-55\"/>\r\n      </g>\r\n     </g>\r\n    </g>\r\n    <g id=\"text_14\">\r\n     <!-- Frequency -->\r\n     <g transform=\"translate(14.798437 152.348125)rotate(-90)scale(0.1 -0.1)\">\r\n      <defs>\r\n       <path d=\"M 9.8125 72.90625 \r\nL 51.703125 72.90625 \r\nL 51.703125 64.59375 \r\nL 19.671875 64.59375 \r\nL 19.671875 43.109375 \r\nL 48.578125 43.109375 \r\nL 48.578125 34.8125 \r\nL 19.671875 34.8125 \r\nL 19.671875 0 \r\nL 9.8125 0 \r\nz\r\n\" id=\"DejaVuSans-70\"/>\r\n       <path d=\"M 41.109375 46.296875 \r\nQ 39.59375 47.171875 37.8125 47.578125 \r\nQ 36.03125 48 33.890625 48 \r\nQ 26.265625 48 22.1875 43.046875 \r\nQ 18.109375 38.09375 18.109375 28.8125 \r\nL 18.109375 0 \r\nL 9.078125 0 \r\nL 9.078125 54.6875 \r\nL 18.109375 54.6875 \r\nL 18.109375 46.1875 \r\nQ 20.953125 51.171875 25.484375 53.578125 \r\nQ 30.03125 56 36.53125 56 \r\nQ 37.453125 56 38.578125 55.875 \r\nQ 39.703125 55.765625 41.0625 55.515625 \r\nz\r\n\" id=\"DejaVuSans-114\"/>\r\n       <path d=\"M 56.203125 29.59375 \r\nL 56.203125 25.203125 \r\nL 14.890625 25.203125 \r\nQ 15.484375 15.921875 20.484375 11.0625 \r\nQ 25.484375 6.203125 34.421875 6.203125 \r\nQ 39.59375 6.203125 44.453125 7.46875 \r\nQ 49.3125 8.734375 54.109375 11.28125 \r\nL 54.109375 2.78125 \r\nQ 49.265625 0.734375 44.1875 -0.34375 \r\nQ 39.109375 -1.421875 33.890625 -1.421875 \r\nQ 20.796875 -1.421875 13.15625 6.1875 \r\nQ 5.515625 13.8125 5.515625 26.8125 \r\nQ 5.515625 40.234375 12.765625 48.109375 \r\nQ 20.015625 56 32.328125 56 \r\nQ 43.359375 56 49.78125 48.890625 \r\nQ 56.203125 41.796875 56.203125 29.59375 \r\nz\r\nM 47.21875 32.234375 \r\nQ 47.125 39.59375 43.09375 43.984375 \r\nQ 39.0625 48.390625 32.421875 48.390625 \r\nQ 24.90625 48.390625 20.390625 44.140625 \r\nQ 15.875 39.890625 15.1875 32.171875 \r\nz\r\n\" id=\"DejaVuSans-101\"/>\r\n       <path d=\"M 14.796875 27.296875 \r\nQ 14.796875 17.390625 18.875 11.75 \r\nQ 22.953125 6.109375 30.078125 6.109375 \r\nQ 37.203125 6.109375 41.296875 11.75 \r\nQ 45.40625 17.390625 45.40625 27.296875 \r\nQ 45.40625 37.203125 41.296875 42.84375 \r\nQ 37.203125 48.484375 30.078125 48.484375 \r\nQ 22.953125 48.484375 18.875 42.84375 \r\nQ 14.796875 37.203125 14.796875 27.296875 \r\nz\r\nM 45.40625 8.203125 \r\nQ 42.578125 3.328125 38.25 0.953125 \r\nQ 33.9375 -1.421875 27.875 -1.421875 \r\nQ 17.96875 -1.421875 11.734375 6.484375 \r\nQ 5.515625 14.40625 5.515625 27.296875 \r\nQ 5.515625 40.1875 11.734375 48.09375 \r\nQ 17.96875 56 27.875 56 \r\nQ 33.9375 56 38.25 53.625 \r\nQ 42.578125 51.265625 45.40625 46.390625 \r\nL 45.40625 54.6875 \r\nL 54.390625 54.6875 \r\nL 54.390625 -20.796875 \r\nL 45.40625 -20.796875 \r\nz\r\n\" id=\"DejaVuSans-113\"/>\r\n       <path d=\"M 8.5 21.578125 \r\nL 8.5 54.6875 \r\nL 17.484375 54.6875 \r\nL 17.484375 21.921875 \r\nQ 17.484375 14.15625 20.5 10.265625 \r\nQ 23.53125 6.390625 29.59375 6.390625 \r\nQ 36.859375 6.390625 41.078125 11.03125 \r\nQ 45.3125 15.671875 45.3125 23.6875 \r\nL 45.3125 54.6875 \r\nL 54.296875 54.6875 \r\nL 54.296875 0 \r\nL 45.3125 0 \r\nL 45.3125 8.40625 \r\nQ 42.046875 3.421875 37.71875 1 \r\nQ 33.40625 -1.421875 27.6875 -1.421875 \r\nQ 18.265625 -1.421875 13.375 4.4375 \r\nQ 8.5 10.296875 8.5 21.578125 \r\nz\r\nM 31.109375 56 \r\nz\r\n\" id=\"DejaVuSans-117\"/>\r\n       <path d=\"M 54.890625 33.015625 \r\nL 54.890625 0 \r\nL 45.90625 0 \r\nL 45.90625 32.71875 \r\nQ 45.90625 40.484375 42.875 44.328125 \r\nQ 39.84375 48.1875 33.796875 48.1875 \r\nQ 26.515625 48.1875 22.3125 43.546875 \r\nQ 18.109375 38.921875 18.109375 30.90625 \r\nL 18.109375 0 \r\nL 9.078125 0 \r\nL 9.078125 54.6875 \r\nL 18.109375 54.6875 \r\nL 18.109375 46.1875 \r\nQ 21.34375 51.125 25.703125 53.5625 \r\nQ 30.078125 56 35.796875 56 \r\nQ 45.21875 56 50.046875 50.171875 \r\nQ 54.890625 44.34375 54.890625 33.015625 \r\nz\r\n\" id=\"DejaVuSans-110\"/>\r\n       <path d=\"M 48.78125 52.59375 \r\nL 48.78125 44.1875 \r\nQ 44.96875 46.296875 41.140625 47.34375 \r\nQ 37.3125 48.390625 33.40625 48.390625 \r\nQ 24.65625 48.390625 19.8125 42.84375 \r\nQ 14.984375 37.3125 14.984375 27.296875 \r\nQ 14.984375 17.28125 19.8125 11.734375 \r\nQ 24.65625 6.203125 33.40625 6.203125 \r\nQ 37.3125 6.203125 41.140625 7.25 \r\nQ 44.96875 8.296875 48.78125 10.40625 \r\nL 48.78125 2.09375 \r\nQ 45.015625 0.34375 40.984375 -0.53125 \r\nQ 36.96875 -1.421875 32.421875 -1.421875 \r\nQ 20.0625 -1.421875 12.78125 6.34375 \r\nQ 5.515625 14.109375 5.515625 27.296875 \r\nQ 5.515625 40.671875 12.859375 48.328125 \r\nQ 20.21875 56 33.015625 56 \r\nQ 37.15625 56 41.109375 55.140625 \r\nQ 45.0625 54.296875 48.78125 52.59375 \r\nz\r\n\" id=\"DejaVuSans-99\"/>\r\n       <path d=\"M 32.171875 -5.078125 \r\nQ 28.375 -14.84375 24.75 -17.8125 \r\nQ 21.140625 -20.796875 15.09375 -20.796875 \r\nL 7.90625 -20.796875 \r\nL 7.90625 -13.28125 \r\nL 13.1875 -13.28125 \r\nQ 16.890625 -13.28125 18.9375 -11.515625 \r\nQ 21 -9.765625 23.484375 -3.21875 \r\nL 25.09375 0.875 \r\nL 2.984375 54.6875 \r\nL 12.5 54.6875 \r\nL 29.59375 11.921875 \r\nL 46.6875 54.6875 \r\nL 56.203125 54.6875 \r\nz\r\n\" id=\"DejaVuSans-121\"/>\r\n      </defs>\r\n      <use xlink:href=\"#DejaVuSans-70\"/>\r\n      <use x=\"50.269531\" xlink:href=\"#DejaVuSans-114\"/>\r\n      <use x=\"89.132812\" xlink:href=\"#DejaVuSans-101\"/>\r\n      <use x=\"150.65625\" xlink:href=\"#DejaVuSans-113\"/>\r\n      <use x=\"214.132812\" xlink:href=\"#DejaVuSans-117\"/>\r\n      <use x=\"277.511719\" xlink:href=\"#DejaVuSans-101\"/>\r\n      <use x=\"339.035156\" xlink:href=\"#DejaVuSans-110\"/>\r\n      <use x=\"402.414062\" xlink:href=\"#DejaVuSans-99\"/>\r\n      <use x=\"457.394531\" xlink:href=\"#DejaVuSans-121\"/>\r\n     </g>\r\n    </g>\r\n    <g id=\"text_15\">\r\n     <!-- 1e6 -->\r\n     <g transform=\"translate(34.240625 14.798437)scale(0.1 -0.1)\">\r\n      <use xlink:href=\"#DejaVuSans-49\"/>\r\n      <use x=\"63.623047\" xlink:href=\"#DejaVuSans-101\"/>\r\n      <use x=\"125.146484\" xlink:href=\"#DejaVuSans-54\"/>\r\n     </g>\r\n    </g>\r\n   </g>\r\n   <g id=\"patch_13\">\r\n    <path d=\"M 34.240625 235.238437 \r\nL 34.240625 17.798437 \r\n\" style=\"fill:none;stroke:#000000;stroke-linecap:square;stroke-linejoin:miter;stroke-width:0.8;\"/>\r\n   </g>\r\n   <g id=\"patch_14\">\r\n    <path d=\"M 369.040625 235.238437 \r\nL 369.040625 17.798437 \r\n\" style=\"fill:none;stroke:#000000;stroke-linecap:square;stroke-linejoin:miter;stroke-width:0.8;\"/>\r\n   </g>\r\n   <g id=\"patch_15\">\r\n    <path d=\"M 34.240625 235.238437 \r\nL 369.040625 235.238437 \r\n\" style=\"fill:none;stroke:#000000;stroke-linecap:square;stroke-linejoin:miter;stroke-width:0.8;\"/>\r\n   </g>\r\n   <g id=\"patch_16\">\r\n    <path d=\"M 34.240625 17.798437 \r\nL 369.040625 17.798437 \r\n\" style=\"fill:none;stroke:#000000;stroke-linecap:square;stroke-linejoin:miter;stroke-width:0.8;\"/>\r\n   </g>\r\n  </g>\r\n </g>\r\n <defs>\r\n  <clipPath id=\"p68f5017439\">\r\n   <rect height=\"217.44\" width=\"334.8\" x=\"34.240625\" y=\"17.798437\"/>\r\n  </clipPath>\r\n </defs>\r\n</svg>\r\n",
      "image/png": "[encoded data removed]"
     },
     "metadata": {
      "needs_background": "light"
     }
    }
   ],
   "source": [
    "pd.options.display.float_format = '{:20,.2f}'.format\n",
    "ratings['rating'].plot(kind='hist')\n",
    "ratings['rating'].describe()"
   ]
  },
  {
   "cell_type": "code",
   "execution_count": null,
   "metadata": {},
   "outputs": [],
   "source": []
  }
 ],
 "metadata": {
  "kernelspec": {
   "display_name": "Python 3",
   "language": "python",
   "name": "python3"
  },
  "language_info": {
   "codemirror_mode": {
    "name": "ipython",
    "version": 3
   },
   "file_extension": ".py",
   "mimetype": "text/x-python",
   "name": "python",
   "nbconvert_exporter": "python",
   "pygments_lexer": "ipython3",
   "version": "3.8.5-final"
  }
 },
 "nbformat": 4,
 "nbformat_minor": 4
}