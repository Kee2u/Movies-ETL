version https://git-lfs.github.com/spec/v1
oid sha256:6e5d4c2925ff9344d71443d60bce15705b9459e90a4e0a63bef12899cb1d5f20
size 18946
